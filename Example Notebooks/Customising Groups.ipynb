{
 "cells": [
  {
   "cell_type": "code",
   "execution_count": 1,
   "id": "231ae7db-a204-4312-b9ff-559a278ffb10",
   "metadata": {},
   "outputs": [],
   "source": [
    "import os\n",
    "import pandas as pd\n",
    "from qub_canvas_helper.calendar import CanvasCalendarManager\n",
    "from qub_canvas_helper.assignments import CanvasAssignmentManager\n",
    "from qub_canvas_helper.groups import CanvasGroupManager"
   ]
  },
  {
   "cell_type": "markdown",
   "id": "b92cb397-6c2a-4c35-bdb0-297c2ebfecbe",
   "metadata": {},
   "source": [
    "# Canvas Login Details"
   ]
  },
  {
   "cell_type": "code",
   "execution_count": 2,
   "id": "ac93f7c3-e2e1-4a5c-b156-06eca4c16cfc",
   "metadata": {},
   "outputs": [],
   "source": [
    "# Where on the internet is canvas\n",
    "canvas_domain = \"https://qub.instructure.com\"\n",
    "\n",
    "# Access token is now in .env under CANVAS_API_TOKEN\n",
    "access_token = os.getenv(\"CANVAS_API_TOKEN\")\n",
    "\n",
    "# Check this is set up properly\n",
    "if not access_token:\n",
    "    raise ValueError(\"Missing Canvas API token!\")"
   ]
  },
  {
   "cell_type": "markdown",
   "id": "65ce2c2f-acb3-49ff-9819-ef648647a18b",
   "metadata": {},
   "source": [
    "# Configure Details"
   ]
  },
  {
   "cell_type": "markdown",
   "id": "d6ca2031-0ef7-4e3d-b60b-560e2fd46de2",
   "metadata": {},
   "source": [
    "Specify the course. The course_id can be found in the url of the module: https://canvas.qub.ac.uk/courses/27862"
   ]
  },
  {
   "cell_type": "code",
   "execution_count": 3,
   "id": "866b3be8-b66b-4260-9d9c-63d757e9b183",
   "metadata": {},
   "outputs": [],
   "source": [
    "course_id = 27862"
   ]
  },
  {
   "cell_type": "markdown",
   "id": "29117dd2-990e-4b0d-872e-1e91d1e88a15",
   "metadata": {},
   "source": [
    "Create a list of group sets. For now, do this manually as a list below."
   ]
  },
  {
   "cell_type": "code",
   "execution_count": 4,
   "id": "022f03fd-1184-472c-9fc9-949d03fa039b",
   "metadata": {},
   "outputs": [],
   "source": [
    "groups = ['Group A', 'Group B', 'Group C', 'Group D', 'Group E']"
   ]
  },
  {
   "cell_type": "markdown",
   "id": "6cefa96d-0230-4c07-8908-f70d0d780f6d",
   "metadata": {},
   "source": [
    "Create a list of groups. For now, do this manually as a list below."
   ]
  },
  {
   "cell_type": "code",
   "execution_count": 5,
   "id": "bd2d5001-d75d-4656-a5e3-23c4e3a83afd",
   "metadata": {},
   "outputs": [],
   "source": [
    "group_sets = ['Lab 1', 'Lab 2', 'Lab 3', 'Lab 4', 'Lab 5']"
   ]
  },
  {
   "cell_type": "markdown",
   "id": "1be75f6f-6168-44e7-8aa0-ac6c6280b781",
   "metadata": {},
   "source": [
    "# Start Talking to Canvas"
   ]
  },
  {
   "cell_type": "markdown",
   "id": "b2d08599-a65f-42cb-9fd0-112c1f2579ac",
   "metadata": {},
   "source": [
    "## Creating Groups"
   ]
  },
  {
   "cell_type": "markdown",
   "id": "17423124-2ae0-4cf9-b035-49fbb1af2c4f",
   "metadata": {},
   "source": [
    "Instantiate the class using the data provided above."
   ]
  },
  {
   "cell_type": "code",
   "execution_count": 6,
   "id": "9434b973-7e92-4e54-a947-95c70304e203",
   "metadata": {},
   "outputs": [],
   "source": [
    "group_manager = CanvasGroupManager(canvas_domain, access_token, course_id)"
   ]
  },
  {
   "cell_type": "markdown",
   "id": "4ba1f1b4-b7f5-4ca8-a60d-9b0f3c7f79a0",
   "metadata": {},
   "source": [
    "Create any number of groups sets, as named in the list above.\n",
    "\n",
    "This is the top level in Canvas (the big red \"+ Group Set\" button) and is a collection of groups."
   ]
  },
  {
   "cell_type": "code",
   "execution_count": 7,
   "id": "ab9fc655-f9bf-4851-8ac8-e584043cbdfc",
   "metadata": {},
   "outputs": [
    {
     "name": "stdout",
     "output_type": "stream",
     "text": [
      "Failed to create group category 'Lab 1': 400, {\"errors\":{\"name\":[{\"attribute\":\"name\",\"type\":\"Lab 1 is already in use.\",\"message\":\"Lab 1 is already in use.\"}]}}\n",
      "Failed to create group category 'Lab 2': 400, {\"errors\":{\"name\":[{\"attribute\":\"name\",\"type\":\"Lab 2 is already in use.\",\"message\":\"Lab 2 is already in use.\"}]}}\n",
      "Failed to create group category 'Lab 3': 400, {\"errors\":{\"name\":[{\"attribute\":\"name\",\"type\":\"Lab 3 is already in use.\",\"message\":\"Lab 3 is already in use.\"}]}}\n",
      "Failed to create group category 'Lab 4': 400, {\"errors\":{\"name\":[{\"attribute\":\"name\",\"type\":\"Lab 4 is already in use.\",\"message\":\"Lab 4 is already in use.\"}]}}\n",
      "Failed to create group category 'Lab 5': 400, {\"errors\":{\"name\":[{\"attribute\":\"name\",\"type\":\"Lab 5 is already in use.\",\"message\":\"Lab 5 is already in use.\"}]}}\n"
     ]
    }
   ],
   "source": [
    "group_manager.create_group_sets(group_sets)"
   ]
  },
  {
   "cell_type": "markdown",
   "id": "bd4a06fe-bc61-4579-ab8a-e27949ff0265",
   "metadata": {},
   "source": [
    "Canvas works with group ids, not the name, so we need to find these."
   ]
  },
  {
   "cell_type": "code",
   "execution_count": 8,
   "id": "5599e116-25a2-4f80-a559-a5d80e978eb6",
   "metadata": {},
   "outputs": [
    {
     "data": {
      "text/plain": [
       "{'Lab 1': 12804,\n",
       " 'Lab 2': 12805,\n",
       " 'Lab 3': 12806,\n",
       " 'Lab 4': 12807,\n",
       " 'Lab 5': 12808}"
      ]
     },
     "execution_count": 8,
     "metadata": {},
     "output_type": "execute_result"
    }
   ],
   "source": [
    "all_canvas_groups = group_manager.get_all_group_sets()\n",
    "group_sets_dict = dict(zip(all_canvas_groups['name'], all_canvas_groups['id']))\n",
    "group_sets_dict"
   ]
  },
  {
   "cell_type": "markdown",
   "id": "5ff7fe8c-6d22-43f0-af59-de7af9002d51",
   "metadata": {},
   "source": [
    "Create groups, sepcified in a list above, for a group set, as identified by the Canvas id."
   ]
  },
  {
   "cell_type": "code",
   "execution_count": 9,
   "id": "2c78d3f1-3c1b-42a5-aa27-83eae8474238",
   "metadata": {},
   "outputs": [
    {
     "name": "stdout",
     "output_type": "stream",
     "text": [
      "Group 'Group A' already exists in group set 12804, skipping creation.\n",
      "Group 'Group B' already exists in group set 12804, skipping creation.\n",
      "Group 'Group C' already exists in group set 12804, skipping creation.\n",
      "Group 'Group D' already exists in group set 12804, skipping creation.\n",
      "Group 'Group E' already exists in group set 12804, skipping creation.\n",
      "Group 'Group A' already exists in group set 12805, skipping creation.\n",
      "Group 'Group B' already exists in group set 12805, skipping creation.\n",
      "Group 'Group C' already exists in group set 12805, skipping creation.\n",
      "Group 'Group D' already exists in group set 12805, skipping creation.\n",
      "Group 'Group E' already exists in group set 12805, skipping creation.\n",
      "Group 'Group A' already exists in group set 12806, skipping creation.\n",
      "Group 'Group B' already exists in group set 12806, skipping creation.\n",
      "Group 'Group C' already exists in group set 12806, skipping creation.\n",
      "Group 'Group D' already exists in group set 12806, skipping creation.\n",
      "Group 'Group E' already exists in group set 12806, skipping creation.\n",
      "Group 'Group A' already exists in group set 12807, skipping creation.\n",
      "Group 'Group B' already exists in group set 12807, skipping creation.\n",
      "Group 'Group C' already exists in group set 12807, skipping creation.\n",
      "Group 'Group D' already exists in group set 12807, skipping creation.\n",
      "Group 'Group E' already exists in group set 12807, skipping creation.\n",
      "Group 'Group A' already exists in group set 12808, skipping creation.\n",
      "Group 'Group B' already exists in group set 12808, skipping creation.\n",
      "Group 'Group C' already exists in group set 12808, skipping creation.\n",
      "Group 'Group D' already exists in group set 12808, skipping creation.\n",
      "Group 'Group E' already exists in group set 12808, skipping creation.\n"
     ]
    },
    {
     "data": {
      "text/plain": [
       "{12804: [], 12805: [], 12806: [], 12807: [], 12808: []}"
      ]
     },
     "execution_count": 9,
     "metadata": {},
     "output_type": "execute_result"
    }
   ],
   "source": [
    "group_manager.create_groups_in_sets(group_sets_dict.values(), groups)"
   ]
  },
  {
   "cell_type": "markdown",
   "id": "3b3f82ff-d3d7-408d-9f86-0d108ab85556",
   "metadata": {},
   "source": [
    "If things have gone wrong, delete all the groups in a group set, identified by the Canvas id."
   ]
  },
  {
   "cell_type": "code",
   "execution_count": 10,
   "id": "1b92c939-77ca-4fe8-b473-ee6f95c4e3a1",
   "metadata": {},
   "outputs": [],
   "source": [
    "#group_manager.delete_all_groups_in_set(12772)"
   ]
  },
  {
   "cell_type": "markdown",
   "id": "72a87ce0-ffd2-4475-a334-ca5cb40f618f",
   "metadata": {},
   "source": [
    "## Assigning Students to Groups"
   ]
  },
  {
   "cell_type": "code",
   "execution_count": 11,
   "id": "7ad0f12e-5c75-463a-85c0-dd1cd8af7d08",
   "metadata": {},
   "outputs": [
    {
     "data": {
      "text/html": [
       "<div>\n",
       "<style scoped>\n",
       "    .dataframe tbody tr th:only-of-type {\n",
       "        vertical-align: middle;\n",
       "    }\n",
       "\n",
       "    .dataframe tbody tr th {\n",
       "        vertical-align: top;\n",
       "    }\n",
       "\n",
       "    .dataframe thead th {\n",
       "        text-align: right;\n",
       "    }\n",
       "</style>\n",
       "<table border=\"1\" class=\"dataframe\">\n",
       "  <thead>\n",
       "    <tr style=\"text-align: right;\">\n",
       "      <th></th>\n",
       "      <th>id</th>\n",
       "      <th>name</th>\n",
       "      <th>Lab 1</th>\n",
       "      <th>Lab 2</th>\n",
       "      <th>Lab 3</th>\n",
       "      <th>Lab 4</th>\n",
       "      <th>Lab 5</th>\n",
       "    </tr>\n",
       "  </thead>\n",
       "  <tbody>\n",
       "    <tr>\n",
       "      <th>0</th>\n",
       "      <td>1491</td>\n",
       "      <td>Matt Damon</td>\n",
       "      <td>Group A</td>\n",
       "      <td>Group E</td>\n",
       "      <td>Group D</td>\n",
       "      <td>Group C</td>\n",
       "      <td>Group B</td>\n",
       "    </tr>\n",
       "    <tr>\n",
       "      <th>1</th>\n",
       "      <td>1490</td>\n",
       "      <td>Jodie Foster</td>\n",
       "      <td>Group B</td>\n",
       "      <td>Group A</td>\n",
       "      <td>Group E</td>\n",
       "      <td>Group D</td>\n",
       "      <td>Group C</td>\n",
       "    </tr>\n",
       "    <tr>\n",
       "      <th>2</th>\n",
       "      <td>1492</td>\n",
       "      <td>Tom Hanks</td>\n",
       "      <td>Group C</td>\n",
       "      <td>Group B</td>\n",
       "      <td>Group A</td>\n",
       "      <td>Group E</td>\n",
       "      <td>Group D</td>\n",
       "    </tr>\n",
       "    <tr>\n",
       "      <th>3</th>\n",
       "      <td>1493</td>\n",
       "      <td>Liam Neeson</td>\n",
       "      <td>Group D</td>\n",
       "      <td>Group C</td>\n",
       "      <td>Group B</td>\n",
       "      <td>Group A</td>\n",
       "      <td>Group E</td>\n",
       "    </tr>\n",
       "    <tr>\n",
       "      <th>4</th>\n",
       "      <td>1489</td>\n",
       "      <td>Kate Winslet</td>\n",
       "      <td>Group E</td>\n",
       "      <td>Group D</td>\n",
       "      <td>Group C</td>\n",
       "      <td>Group B</td>\n",
       "      <td>Group A</td>\n",
       "    </tr>\n",
       "  </tbody>\n",
       "</table>\n",
       "</div>"
      ],
      "text/plain": [
       "     id          name    Lab 1    Lab 2    Lab 3    Lab 4    Lab 5\n",
       "0  1491    Matt Damon  Group A  Group E  Group D  Group C  Group B\n",
       "1  1490  Jodie Foster  Group B  Group A  Group E  Group D  Group C\n",
       "2  1492     Tom Hanks  Group C  Group B  Group A  Group E  Group D\n",
       "3  1493   Liam Neeson  Group D  Group C  Group B  Group A  Group E\n",
       "4  1489  Kate Winslet  Group E  Group D  Group C  Group B  Group A"
      ]
     },
     "execution_count": 11,
     "metadata": {},
     "output_type": "execute_result"
    }
   ],
   "source": [
    "# Move this above?\n",
    "student_groups = pd.read_excel('custom_groups.xlsx')\n",
    "student_groups.head()"
   ]
  },
  {
   "cell_type": "markdown",
   "id": "3271bd14-ec7e-46b1-9f27-979454c31bf7",
   "metadata": {},
   "source": [
    "We have a dictionary of the group sets above, we also need a dictionary of the groups within the group sets"
   ]
  },
  {
   "cell_type": "code",
   "execution_count": 12,
   "id": "ec165ab3-eef7-4989-94af-9df2e978a582",
   "metadata": {},
   "outputs": [
    {
     "data": {
      "text/plain": [
       "{'Lab 1': {'Group A': 54951,\n",
       "  'Group B': 54952,\n",
       "  'Group C': 54953,\n",
       "  'Group D': 54954,\n",
       "  'Group E': 54955},\n",
       " 'Lab 2': {'Group A': 54956,\n",
       "  'Group B': 54957,\n",
       "  'Group C': 54958,\n",
       "  'Group D': 54959,\n",
       "  'Group E': 54960},\n",
       " 'Lab 3': {'Group A': 54961,\n",
       "  'Group B': 54962,\n",
       "  'Group C': 54963,\n",
       "  'Group D': 54964,\n",
       "  'Group E': 54965},\n",
       " 'Lab 4': {'Group A': 54966,\n",
       "  'Group B': 54967,\n",
       "  'Group C': 54968,\n",
       "  'Group D': 54969,\n",
       "  'Group E': 54970},\n",
       " 'Lab 5': {'Group A': 54971,\n",
       "  'Group B': 54972,\n",
       "  'Group C': 54973,\n",
       "  'Group D': 54974,\n",
       "  'Group E': 54975}}"
      ]
     },
     "execution_count": 12,
     "metadata": {},
     "output_type": "execute_result"
    }
   ],
   "source": [
    "groups_dict = group_manager.get_all_groups(group_sets_dict)\n",
    "groups_dict"
   ]
  },
  {
   "cell_type": "markdown",
   "id": "1fdc1e76-257d-48a0-94f9-c2b4bd10ac09",
   "metadata": {},
   "source": [
    "Assign students to groups within the group sets based on th provided Excel data"
   ]
  },
  {
   "cell_type": "code",
   "execution_count": 13,
   "id": "69443e9b-1784-4d5b-aee1-621af8468980",
   "metadata": {},
   "outputs": [
    {
     "name": "stdout",
     "output_type": "stream",
     "text": [
      "Student Matt Damon (ID: 1491) successfully assigned to 'Group A' in 'Lab 1'\n",
      "Student Matt Damon (ID: 1491) successfully assigned to 'Group E' in 'Lab 2'\n",
      "Student Matt Damon (ID: 1491) successfully assigned to 'Group D' in 'Lab 3'\n",
      "Student Matt Damon (ID: 1491) successfully assigned to 'Group C' in 'Lab 4'\n",
      "Student Matt Damon (ID: 1491) successfully assigned to 'Group B' in 'Lab 5'\n",
      "Student Jodie Foster (ID: 1490) successfully assigned to 'Group B' in 'Lab 1'\n",
      "Student Jodie Foster (ID: 1490) successfully assigned to 'Group A' in 'Lab 2'\n",
      "Student Jodie Foster (ID: 1490) successfully assigned to 'Group E' in 'Lab 3'\n",
      "Student Jodie Foster (ID: 1490) successfully assigned to 'Group D' in 'Lab 4'\n",
      "Student Jodie Foster (ID: 1490) successfully assigned to 'Group C' in 'Lab 5'\n",
      "Student Tom Hanks (ID: 1492) successfully assigned to 'Group C' in 'Lab 1'\n",
      "Student Tom Hanks (ID: 1492) successfully assigned to 'Group B' in 'Lab 2'\n",
      "Student Tom Hanks (ID: 1492) successfully assigned to 'Group A' in 'Lab 3'\n",
      "Student Tom Hanks (ID: 1492) successfully assigned to 'Group E' in 'Lab 4'\n",
      "Student Tom Hanks (ID: 1492) successfully assigned to 'Group D' in 'Lab 5'\n",
      "Student Liam Neeson (ID: 1493) successfully assigned to 'Group D' in 'Lab 1'\n",
      "Student Liam Neeson (ID: 1493) successfully assigned to 'Group C' in 'Lab 2'\n",
      "Student Liam Neeson (ID: 1493) successfully assigned to 'Group B' in 'Lab 3'\n",
      "Student Liam Neeson (ID: 1493) successfully assigned to 'Group A' in 'Lab 4'\n",
      "Student Liam Neeson (ID: 1493) successfully assigned to 'Group E' in 'Lab 5'\n",
      "Student Kate Winslet (ID: 1489) successfully assigned to 'Group E' in 'Lab 1'\n",
      "Student Kate Winslet (ID: 1489) successfully assigned to 'Group D' in 'Lab 2'\n",
      "Student Kate Winslet (ID: 1489) successfully assigned to 'Group C' in 'Lab 3'\n",
      "Student Kate Winslet (ID: 1489) successfully assigned to 'Group B' in 'Lab 4'\n",
      "Student Kate Winslet (ID: 1489) successfully assigned to 'Group A' in 'Lab 5'\n"
     ]
    }
   ],
   "source": [
    "group_manager.assign_students_to_groups(student_groups, group_sets_dict, groups_dict)"
   ]
  },
  {
   "cell_type": "markdown",
   "id": "9c838374-38d5-493d-9bdc-12ab681108f0",
   "metadata": {},
   "source": [
    "## Create Assignments and Calendar Events"
   ]
  },
  {
   "cell_type": "markdown",
   "id": "5fc04589-09c7-4c4f-bd28-82d46afc8758",
   "metadata": {},
   "source": [
    "Instantiate classes for each"
   ]
  },
  {
   "cell_type": "code",
   "execution_count": 14,
   "id": "e10ae41b-b006-4897-96c9-448c893ecb4b",
   "metadata": {},
   "outputs": [],
   "source": [
    "calendar_manager = CanvasCalendarManager(canvas_domain, access_token, course_id)\n",
    "assignment_manager = CanvasAssignmentManager(canvas_domain, access_token, course_id)"
   ]
  },
  {
   "cell_type": "markdown",
   "id": "d3973ae0-1641-4d95-a4de-7f9279c40c40",
   "metadata": {},
   "source": [
    "Manually assign lab dates (to become Calendar Events) and state how long after students will have to submit the Post Lab (to become Assignment date).\n",
    "\n",
    "The actual names of the labs (ie group sets) and post lab assignments must be used!\n",
    "\n",
    "This could be done in an Excel file and uploaded but there aren't many entries for now so do manually here."
   ]
  },
  {
   "cell_type": "code",
   "execution_count": 15,
   "id": "30e8f8ce-638d-4a64-95fc-b2654246afdd",
   "metadata": {},
   "outputs": [],
   "source": [
    "submission_length_days = 7"
   ]
  },
  {
   "cell_type": "code",
   "execution_count": 16,
   "id": "b215a5a6-f86f-432c-ae07-aab72f1bfdc1",
   "metadata": {},
   "outputs": [
    {
     "data": {
      "text/html": [
       "<div>\n",
       "<style scoped>\n",
       "    .dataframe tbody tr th:only-of-type {\n",
       "        vertical-align: middle;\n",
       "    }\n",
       "\n",
       "    .dataframe tbody tr th {\n",
       "        vertical-align: top;\n",
       "    }\n",
       "\n",
       "    .dataframe thead th {\n",
       "        text-align: right;\n",
       "    }\n",
       "</style>\n",
       "<table border=\"1\" class=\"dataframe\">\n",
       "  <thead>\n",
       "    <tr style=\"text-align: right;\">\n",
       "      <th></th>\n",
       "      <th>Practical</th>\n",
       "      <th>2024-10-28 00:00:00</th>\n",
       "      <th>2024-10-29 00:00:00</th>\n",
       "      <th>2024-10-30 00:00:00</th>\n",
       "      <th>2024-10-31 00:00:00</th>\n",
       "      <th>2024-11-01 00:00:00</th>\n",
       "    </tr>\n",
       "  </thead>\n",
       "  <tbody>\n",
       "    <tr>\n",
       "      <th>0</th>\n",
       "      <td>Lab 1</td>\n",
       "      <td>Group A</td>\n",
       "      <td>Group E</td>\n",
       "      <td>Group D</td>\n",
       "      <td>Group C</td>\n",
       "      <td>Group B</td>\n",
       "    </tr>\n",
       "    <tr>\n",
       "      <th>1</th>\n",
       "      <td>Lab 2</td>\n",
       "      <td>Group B</td>\n",
       "      <td>Group A</td>\n",
       "      <td>Group E</td>\n",
       "      <td>Group D</td>\n",
       "      <td>Group C</td>\n",
       "    </tr>\n",
       "    <tr>\n",
       "      <th>2</th>\n",
       "      <td>Lab 3</td>\n",
       "      <td>Group C</td>\n",
       "      <td>Group B</td>\n",
       "      <td>Group A</td>\n",
       "      <td>Group E</td>\n",
       "      <td>Group D</td>\n",
       "    </tr>\n",
       "    <tr>\n",
       "      <th>3</th>\n",
       "      <td>Lab 4</td>\n",
       "      <td>Group D</td>\n",
       "      <td>Group C</td>\n",
       "      <td>Group B</td>\n",
       "      <td>Group A</td>\n",
       "      <td>Group E</td>\n",
       "    </tr>\n",
       "    <tr>\n",
       "      <th>4</th>\n",
       "      <td>Lab 5</td>\n",
       "      <td>Group E</td>\n",
       "      <td>Group D</td>\n",
       "      <td>Group C</td>\n",
       "      <td>Group B</td>\n",
       "      <td>Group A</td>\n",
       "    </tr>\n",
       "  </tbody>\n",
       "</table>\n",
       "</div>"
      ],
      "text/plain": [
       "  Practical 2024-10-28 00:00:00 2024-10-29 00:00:00 2024-10-30 00:00:00  \\\n",
       "0     Lab 1             Group A             Group E             Group D   \n",
       "1     Lab 2             Group B             Group A             Group E   \n",
       "2     Lab 3             Group C             Group B             Group A   \n",
       "3     Lab 4             Group D             Group C             Group B   \n",
       "4     Lab 5             Group E             Group D             Group C   \n",
       "\n",
       "  2024-10-31 00:00:00 2024-11-01 00:00:00  \n",
       "0             Group C             Group B  \n",
       "1             Group D             Group C  \n",
       "2             Group E             Group D  \n",
       "3             Group A             Group E  \n",
       "4             Group B             Group A  "
      ]
     },
     "execution_count": 16,
     "metadata": {},
     "output_type": "execute_result"
    }
   ],
   "source": [
    "# Really need to go back and change 'Tuesday 10-1' etc to 'Group A' etc\n",
    "custom_practical_dates = pd.read_excel('custom_practical_dates.xlsx')\n",
    "custom_practical_dates"
   ]
  },
  {
   "cell_type": "markdown",
   "id": "96852ddc-c951-4c08-a663-fa4697d50879",
   "metadata": {},
   "source": [
    "### Assignments"
   ]
  },
  {
   "cell_type": "markdown",
   "id": "aace473f-faef-40a9-838a-179795e13481",
   "metadata": {},
   "source": [
    "We will need to find the ids of the assignments"
   ]
  },
  {
   "cell_type": "code",
   "execution_count": 17,
   "id": "b0c47a77-15ae-4e7a-9380-433ea6a33c79",
   "metadata": {},
   "outputs": [
    {
     "data": {
      "text/plain": [
       "{'Example Assignment': 181313,\n",
       " 'Assignment 1': 203603,\n",
       " 'Assignment 2': 203604,\n",
       " 'Post Lab 1': 204089,\n",
       " 'Post Lab 2': 204090,\n",
       " 'Post Lab 3': 204091,\n",
       " 'Post Lab 4': 204092,\n",
       " 'Post Lab 5': 204093}"
      ]
     },
     "execution_count": 17,
     "metadata": {},
     "output_type": "execute_result"
    }
   ],
   "source": [
    "all_assignments = assignment_manager.get_assignments_in_module(published_status = \"all\")\n",
    "assignments_dict = dict(zip(all_assignments['name'], all_assignments['id']))\n",
    "assignments_dict"
   ]
  },
  {
   "cell_type": "markdown",
   "id": "6f8cabf8-9366-4da3-b768-51257ddbea8e",
   "metadata": {},
   "source": [
    "We also need to say which practicals are associated with which post labs."
   ]
  },
  {
   "cell_type": "code",
   "execution_count": 18,
   "id": "e72a8cb6-1808-4b16-9ab5-a2c287e8270e",
   "metadata": {},
   "outputs": [],
   "source": [
    "practicals_and_postlabs_dict = {'Lab 1': 'Post Lab 1',\n",
    "                                'Lab 2': 'Post Lab 2',\n",
    "                                'Lab 3': 'Post Lab 3',\n",
    "                                'Lab 4': 'Post Lab 4',\n",
    "                                'Lab 5': 'Post Lab 5'}"
   ]
  },
  {
   "cell_type": "markdown",
   "id": "911e83c7-ec0f-4099-8c82-f486ffff5362",
   "metadata": {},
   "source": [
    "We must decide what assignments are involved and make sure they are linked to the correct groups."
   ]
  },
  {
   "cell_type": "code",
   "execution_count": 19,
   "id": "0a725d48-9653-47e6-be90-85f67c7b3600",
   "metadata": {},
   "outputs": [],
   "source": [
    "assignment_ids = [204089, 204090, 204091, 204092, 204093]"
   ]
  },
  {
   "cell_type": "markdown",
   "id": "0bf6d179-d6a1-4112-8833-b79455b6d112",
   "metadata": {},
   "source": [
    "This will take all the info from above and assign submission dates to individual groups.\n",
    "\n",
    "NOTE: Currently requires manual selection of the group on Canvas - possibly not worth automating this right now."
   ]
  },
  {
   "cell_type": "code",
   "execution_count": 22,
   "id": "e90585f3-c3f1-410c-a010-7b413c959d7e",
   "metadata": {},
   "outputs": [
    {
     "name": "stdout",
     "output_type": "stream",
     "text": [
      "Failed to assign assignment 'Post Lab 1' (ID: 204089) to group 'Group A' in practical 'Lab 1'. Response: {\"errors\":{\"set_id\":[{\"attribute\":\"set_id\",\"type\":\"taken\",\"message\":\"taken\"}]}}\n",
      "Failed to assign assignment 'Post Lab 1' (ID: 204089) to group 'Group E' in practical 'Lab 1'. Response: {\"errors\":{\"set_id\":[{\"attribute\":\"set_id\",\"type\":\"taken\",\"message\":\"taken\"}]}}\n",
      "Failed to assign assignment 'Post Lab 1' (ID: 204089) to group 'Group D' in practical 'Lab 1'. Response: {\"errors\":{\"set_id\":[{\"attribute\":\"set_id\",\"type\":\"taken\",\"message\":\"taken\"}]}}\n",
      "Failed to assign assignment 'Post Lab 1' (ID: 204089) to group 'Group C' in practical 'Lab 1'. Response: {\"errors\":{\"set_id\":[{\"attribute\":\"set_id\",\"type\":\"taken\",\"message\":\"taken\"}]}}\n",
      "Failed to assign assignment 'Post Lab 1' (ID: 204089) to group 'Group B' in practical 'Lab 1'. Response: {\"errors\":{\"set_id\":[{\"attribute\":\"set_id\",\"type\":\"taken\",\"message\":\"taken\"}]}}\n",
      "Assignment 'Post Lab 2' (ID: 204090) successfully assigned to group 'Group B' in practical 'Lab 2' with due date 2024-11-04.\n",
      "Assignment 'Post Lab 2' (ID: 204090) successfully assigned to group 'Group A' in practical 'Lab 2' with due date 2024-11-05.\n",
      "Assignment 'Post Lab 2' (ID: 204090) successfully assigned to group 'Group E' in practical 'Lab 2' with due date 2024-11-06.\n",
      "Assignment 'Post Lab 2' (ID: 204090) successfully assigned to group 'Group D' in practical 'Lab 2' with due date 2024-11-07.\n",
      "Assignment 'Post Lab 2' (ID: 204090) successfully assigned to group 'Group C' in practical 'Lab 2' with due date 2024-11-08.\n",
      "Assignment 'Post Lab 3' (ID: 204091) successfully assigned to group 'Group C' in practical 'Lab 3' with due date 2024-11-04.\n",
      "Assignment 'Post Lab 3' (ID: 204091) successfully assigned to group 'Group B' in practical 'Lab 3' with due date 2024-11-05.\n",
      "Assignment 'Post Lab 3' (ID: 204091) successfully assigned to group 'Group A' in practical 'Lab 3' with due date 2024-11-06.\n",
      "Assignment 'Post Lab 3' (ID: 204091) successfully assigned to group 'Group E' in practical 'Lab 3' with due date 2024-11-07.\n",
      "Assignment 'Post Lab 3' (ID: 204091) successfully assigned to group 'Group D' in practical 'Lab 3' with due date 2024-11-08.\n",
      "Assignment 'Post Lab 4' (ID: 204092) successfully assigned to group 'Group D' in practical 'Lab 4' with due date 2024-11-04.\n",
      "Assignment 'Post Lab 4' (ID: 204092) successfully assigned to group 'Group C' in practical 'Lab 4' with due date 2024-11-05.\n",
      "Assignment 'Post Lab 4' (ID: 204092) successfully assigned to group 'Group B' in practical 'Lab 4' with due date 2024-11-06.\n",
      "Assignment 'Post Lab 4' (ID: 204092) successfully assigned to group 'Group A' in practical 'Lab 4' with due date 2024-11-07.\n",
      "Assignment 'Post Lab 4' (ID: 204092) successfully assigned to group 'Group E' in practical 'Lab 4' with due date 2024-11-08.\n",
      "Assignment 'Post Lab 5' (ID: 204093) successfully assigned to group 'Group E' in practical 'Lab 5' with due date 2024-11-04.\n",
      "Assignment 'Post Lab 5' (ID: 204093) successfully assigned to group 'Group D' in practical 'Lab 5' with due date 2024-11-05.\n",
      "Assignment 'Post Lab 5' (ID: 204093) successfully assigned to group 'Group C' in practical 'Lab 5' with due date 2024-11-06.\n",
      "Assignment 'Post Lab 5' (ID: 204093) successfully assigned to group 'Group B' in practical 'Lab 5' with due date 2024-11-07.\n",
      "Assignment 'Post Lab 5' (ID: 204093) successfully assigned to group 'Group A' in practical 'Lab 5' with due date 2024-11-08.\n"
     ]
    }
   ],
   "source": [
    "assignment_manager.assign_assignments_to_group_sets(assignment_ids, \n",
    "                                                    assignments_dict, \n",
    "                                                    practicals_and_postlabs_dict, \n",
    "                                                    groups_dict,\n",
    "                                                    custom_practical_dates, \n",
    "                                                    submission_length_days)"
   ]
  },
  {
   "cell_type": "markdown",
   "id": "37e0e8d1-eeb6-458d-9d81-3f99f1a817b8",
   "metadata": {},
   "source": [
    "In case something goes wrong, we can remove the above in bulk."
   ]
  },
  {
   "cell_type": "code",
   "execution_count": 21,
   "id": "fcf264b1-4635-411b-b53d-ea0d611e921d",
   "metadata": {},
   "outputs": [],
   "source": [
    "#assignment_manager.remove_group_assignments(assignment_ids)"
   ]
  },
  {
   "cell_type": "markdown",
   "id": "8c04ffd6-ff0e-47fd-a785-37ffeebe7f82",
   "metadata": {},
   "source": [
    "### Calendar Events"
   ]
  },
  {
   "cell_type": "markdown",
   "id": "4fc7398c-a06e-448d-95a8-24357b4f305b",
   "metadata": {},
   "source": [
    "First of all, we need to load the calendar which tells us when and where the practical sessions are."
   ]
  },
  {
   "cell_type": "code",
   "execution_count": 22,
   "id": "08c6f14c-0123-4012-9a61-069f79405977",
   "metadata": {},
   "outputs": [],
   "source": [
    "# Which excel file?\n",
    "excel_calendar = \"calendar_upload_test.xlsx\"\n",
    "\n",
    "# Specify the worksheet\n",
    "sheet_name = \"CHM1101\""
   ]
  },
  {
   "cell_type": "markdown",
   "id": "618e4260-226c-4e84-b064-4b327f9346ae",
   "metadata": {},
   "source": [
    "The Excel file must be of a very specific layout, be sure of this beforehand!\n",
    "\n",
    "There must also be a 'Category' column in which the labs are specified, the dates must also be the exact dates specified in custom_practical_dates."
   ]
  },
  {
   "cell_type": "code",
   "execution_count": 23,
   "id": "c2f65d3c-db5b-4a3f-8442-97e7faaad4eb",
   "metadata": {},
   "outputs": [
    {
     "data": {
      "text/html": [
       "<div>\n",
       "<style scoped>\n",
       "    .dataframe tbody tr th:only-of-type {\n",
       "        vertical-align: middle;\n",
       "    }\n",
       "\n",
       "    .dataframe tbody tr th {\n",
       "        vertical-align: top;\n",
       "    }\n",
       "\n",
       "    .dataframe thead th {\n",
       "        text-align: right;\n",
       "    }\n",
       "</style>\n",
       "<table border=\"1\" class=\"dataframe\">\n",
       "  <thead>\n",
       "    <tr style=\"text-align: right;\">\n",
       "      <th></th>\n",
       "      <th>Week No.</th>\n",
       "      <th>Day</th>\n",
       "      <th>Date</th>\n",
       "      <th>Start Time</th>\n",
       "      <th>End Time</th>\n",
       "      <th>Topic</th>\n",
       "      <th>Notes</th>\n",
       "      <th>Staff</th>\n",
       "      <th>Room</th>\n",
       "      <th>Normal Capacity</th>\n",
       "      <th>Category</th>\n",
       "      <th>Module Code</th>\n",
       "    </tr>\n",
       "  </thead>\n",
       "  <tbody>\n",
       "    <tr>\n",
       "      <th>5</th>\n",
       "      <td>NaN</td>\n",
       "      <td>NaN</td>\n",
       "      <td>2024-10-28 00:00:00</td>\n",
       "      <td>10:00:00</td>\n",
       "      <td>13:00:00</td>\n",
       "      <td>Organic Labs</td>\n",
       "      <td>NaN</td>\n",
       "      <td>Lecturer McLecturerFace</td>\n",
       "      <td>DKB/LG/021</td>\n",
       "      <td>NaN</td>\n",
       "      <td>Lab</td>\n",
       "      <td>CHM1101</td>\n",
       "    </tr>\n",
       "    <tr>\n",
       "      <th>6</th>\n",
       "      <td>NaN</td>\n",
       "      <td>NaN</td>\n",
       "      <td>2024-10-29 00:00:00</td>\n",
       "      <td>10:00:00</td>\n",
       "      <td>13:00:00</td>\n",
       "      <td>Organic Labs</td>\n",
       "      <td>NaN</td>\n",
       "      <td>Lecturer McLecturerFace</td>\n",
       "      <td>DKB/LG/022</td>\n",
       "      <td>NaN</td>\n",
       "      <td>Lab</td>\n",
       "      <td>CHM1101</td>\n",
       "    </tr>\n",
       "    <tr>\n",
       "      <th>7</th>\n",
       "      <td>NaN</td>\n",
       "      <td>NaN</td>\n",
       "      <td>2024-10-30 00:00:00</td>\n",
       "      <td>10:00:00</td>\n",
       "      <td>13:00:00</td>\n",
       "      <td>Organic Labs</td>\n",
       "      <td>NaN</td>\n",
       "      <td>Lecturer McLecturerFace</td>\n",
       "      <td>DKB/LG/023</td>\n",
       "      <td>NaN</td>\n",
       "      <td>Lab</td>\n",
       "      <td>CHM1101</td>\n",
       "    </tr>\n",
       "    <tr>\n",
       "      <th>8</th>\n",
       "      <td>NaN</td>\n",
       "      <td>NaN</td>\n",
       "      <td>2024-10-31 00:00:00</td>\n",
       "      <td>10:00:00</td>\n",
       "      <td>13:00:00</td>\n",
       "      <td>Organic Labs</td>\n",
       "      <td>NaN</td>\n",
       "      <td>Lecturer McLecturerFace</td>\n",
       "      <td>DKB/LG/024</td>\n",
       "      <td>NaN</td>\n",
       "      <td>Lab</td>\n",
       "      <td>CHM1101</td>\n",
       "    </tr>\n",
       "    <tr>\n",
       "      <th>9</th>\n",
       "      <td>NaN</td>\n",
       "      <td>NaN</td>\n",
       "      <td>2024-11-01 00:00:00</td>\n",
       "      <td>10:00:00</td>\n",
       "      <td>13:00:00</td>\n",
       "      <td>Organic Labs</td>\n",
       "      <td>NaN</td>\n",
       "      <td>Lecturer McLecturerFace</td>\n",
       "      <td>DKB/LG/025</td>\n",
       "      <td>NaN</td>\n",
       "      <td>Lab</td>\n",
       "      <td>CHM1101</td>\n",
       "    </tr>\n",
       "  </tbody>\n",
       "</table>\n",
       "</div>"
      ],
      "text/plain": [
       "   Week No.  Day                 Date Start Time  End Time         Topic  \\\n",
       "5       NaN  NaN  2024-10-28 00:00:00   10:00:00  13:00:00  Organic Labs   \n",
       "6       NaN  NaN  2024-10-29 00:00:00   10:00:00  13:00:00  Organic Labs   \n",
       "7       NaN  NaN  2024-10-30 00:00:00   10:00:00  13:00:00  Organic Labs   \n",
       "8       NaN  NaN  2024-10-31 00:00:00   10:00:00  13:00:00  Organic Labs   \n",
       "9       NaN  NaN  2024-11-01 00:00:00   10:00:00  13:00:00  Organic Labs   \n",
       "\n",
       "  Notes                    Staff        Room Normal Capacity Category  \\\n",
       "5   NaN  Lecturer McLecturerFace  DKB/LG/021             NaN      Lab   \n",
       "6   NaN  Lecturer McLecturerFace  DKB/LG/022             NaN      Lab   \n",
       "7   NaN  Lecturer McLecturerFace  DKB/LG/023             NaN      Lab   \n",
       "8   NaN  Lecturer McLecturerFace  DKB/LG/024             NaN      Lab   \n",
       "9   NaN  Lecturer McLecturerFace  DKB/LG/025             NaN      Lab   \n",
       "\n",
       "  Module Code  \n",
       "5     CHM1101  \n",
       "6     CHM1101  \n",
       "7     CHM1101  \n",
       "8     CHM1101  \n",
       "9     CHM1101  "
      ]
     },
     "execution_count": 23,
     "metadata": {},
     "output_type": "execute_result"
    }
   ],
   "source": [
    "# Load excel sheet, the first few rows do not contain timetable information\n",
    "timetable_df = pd.read_excel(excel_calendar, sheet_name = sheet_name, skiprows = 4)\n",
    "\n",
    "# The module code is usually in cell D2, extract this and add as a new column\n",
    "module_code_df = pd.read_excel(excel_calendar, sheet_name=0, nrows=2, usecols='D')\n",
    "module_code = module_code_df.iloc[0, 0]\n",
    "timetable_df['Module Code'] = module_code\n",
    "\n",
    "# CLean the data\n",
    "timetable_df = timetable_df.dropna(subset=['Category'])\n",
    "\n",
    "# Filter just for labs\n",
    "lab_timetable_df = timetable_df[timetable_df['Category'] == 'Lab']\n",
    "\n",
    "lab_timetable_df.head()"
   ]
  },
  {
   "cell_type": "markdown",
   "id": "59a185b2-7bb7-41f9-8f72-b932b0c440cb",
   "metadata": {},
   "source": [
    "Create events for each group detailing which practical they are doing.\n",
    "\n",
    "NOTE: This goes to a group specific calendar which needs to be added to the main calendar, might not be that useful. The script does not currently check if there is an event already in place, so running more than once will create duplicates."
   ]
  },
  {
   "cell_type": "code",
   "execution_count": 24,
   "id": "50b97826-67d9-4550-a0c7-3e1b0a97405a",
   "metadata": {},
   "outputs": [
    {
     "name": "stdout",
     "output_type": "stream",
     "text": [
      "Event created for group 'Group E' in practical 'Lab 1'.\n",
      "Event created for group 'Group A' in practical 'Lab 2'.\n",
      "Event created for group 'Group B' in practical 'Lab 3'.\n",
      "Event created for group 'Group C' in practical 'Lab 4'.\n",
      "Event created for group 'Group D' in practical 'Lab 5'.\n",
      "Event created for group 'Group D' in practical 'Lab 1'.\n",
      "Event created for group 'Group E' in practical 'Lab 2'.\n",
      "Event created for group 'Group A' in practical 'Lab 3'.\n",
      "Event created for group 'Group B' in practical 'Lab 4'.\n",
      "Event created for group 'Group C' in practical 'Lab 5'.\n",
      "Event created for group 'Group C' in practical 'Lab 1'.\n",
      "Event created for group 'Group D' in practical 'Lab 2'.\n",
      "Event created for group 'Group E' in practical 'Lab 3'.\n",
      "Event created for group 'Group A' in practical 'Lab 4'.\n",
      "Event created for group 'Group B' in practical 'Lab 5'.\n",
      "Event created for group 'Group B' in practical 'Lab 1'.\n",
      "Event created for group 'Group C' in practical 'Lab 2'.\n",
      "Event created for group 'Group D' in practical 'Lab 3'.\n",
      "Event created for group 'Group E' in practical 'Lab 4'.\n",
      "Event created for group 'Group A' in practical 'Lab 5'.\n"
     ]
    }
   ],
   "source": [
    "calendar_manager.create_practical_calendar_events(custom_practical_dates, lab_timetable_df, practicals_and_postlabs_dict, groups_dict)"
   ]
  },
  {
   "cell_type": "code",
   "execution_count": null,
   "id": "3ad5109d-ac3b-45ec-b740-542cde9f74df",
   "metadata": {},
   "outputs": [],
   "source": []
  }
 ],
 "metadata": {
  "kernelspec": {
   "display_name": "Python 3 (ipykernel)",
   "language": "python",
   "name": "python3"
  },
  "language_info": {
   "codemirror_mode": {
    "name": "ipython",
    "version": 3
   },
   "file_extension": ".py",
   "mimetype": "text/x-python",
   "name": "python",
   "nbconvert_exporter": "python",
   "pygments_lexer": "ipython3",
   "version": "3.12.5"
  }
 },
 "nbformat": 4,
 "nbformat_minor": 5
}
