{
 "cells": [
  {
   "cell_type": "code",
   "execution_count": 1,
   "id": "231ae7db-a204-4312-b9ff-559a278ffb10",
   "metadata": {},
   "outputs": [],
   "source": [
    "import os\n",
    "import pandas as pd\n",
    "from qub_canvas_helper.groups import CanvasGroupManager"
   ]
  },
  {
   "cell_type": "markdown",
   "id": "b92cb397-6c2a-4c35-bdb0-297c2ebfecbe",
   "metadata": {},
   "source": [
    "# Canvas Login Details"
   ]
  },
  {
   "cell_type": "code",
   "execution_count": 2,
   "id": "ac93f7c3-e2e1-4a5c-b156-06eca4c16cfc",
   "metadata": {},
   "outputs": [],
   "source": [
    "# Where on the internet is canvas\n",
    "canvas_domain = \"https://qub.instructure.com\"\n",
    "\n",
    "# Access token is now in .env under CANVAS_API_TOKEN\n",
    "access_token = os.getenv(\"CANVAS_API_TOKEN\")\n",
    "\n",
    "# Check this is set up properly\n",
    "if not access_token:\n",
    "    raise ValueError(\"Missing Canvas API token!\")"
   ]
  },
  {
   "cell_type": "markdown",
   "id": "65ce2c2f-acb3-49ff-9819-ef648647a18b",
   "metadata": {},
   "source": [
    "# Configure Details"
   ]
  },
  {
   "cell_type": "markdown",
   "id": "d6ca2031-0ef7-4e3d-b60b-560e2fd46de2",
   "metadata": {},
   "source": [
    "Specify the course. The course_id can be found in the url of the module: https://canvas.qub.ac.uk/courses/27862"
   ]
  },
  {
   "cell_type": "code",
   "execution_count": 3,
   "id": "866b3be8-b66b-4260-9d9c-63d757e9b183",
   "metadata": {},
   "outputs": [],
   "source": [
    "course_id = 27862"
   ]
  },
  {
   "cell_type": "markdown",
   "id": "29117dd2-990e-4b0d-872e-1e91d1e88a15",
   "metadata": {},
   "source": [
    "Create a list of group sets. For now, do this manually as a list below."
   ]
  },
  {
   "cell_type": "code",
   "execution_count": 4,
   "id": "022f03fd-1184-472c-9fc9-949d03fa039b",
   "metadata": {},
   "outputs": [],
   "source": [
    "group_sets = ['Tuesday 10-1', 'Tuesday 2-5', 'Thursday 10-1', 'Thursday 2-5', 'Friday 2-5']"
   ]
  },
  {
   "cell_type": "markdown",
   "id": "6cefa96d-0230-4c07-8908-f70d0d780f6d",
   "metadata": {},
   "source": [
    "Create a list of groups. For now, do this manually as a list below."
   ]
  },
  {
   "cell_type": "code",
   "execution_count": 5,
   "id": "bd2d5001-d75d-4656-a5e3-23c4e3a83afd",
   "metadata": {},
   "outputs": [],
   "source": [
    "groups = ['Lab 1', 'Lab 2', 'Lab 3', 'Lab 4', 'Lab 5']"
   ]
  },
  {
   "cell_type": "markdown",
   "id": "1be75f6f-6168-44e7-8aa0-ac6c6280b781",
   "metadata": {},
   "source": [
    "# Start Talking to Canvas"
   ]
  },
  {
   "cell_type": "markdown",
   "id": "b2d08599-a65f-42cb-9fd0-112c1f2579ac",
   "metadata": {},
   "source": [
    "## Creating Groups"
   ]
  },
  {
   "cell_type": "markdown",
   "id": "17423124-2ae0-4cf9-b035-49fbb1af2c4f",
   "metadata": {},
   "source": [
    "Instantiate the class using the data provided above."
   ]
  },
  {
   "cell_type": "code",
   "execution_count": 6,
   "id": "9434b973-7e92-4e54-a947-95c70304e203",
   "metadata": {},
   "outputs": [],
   "source": [
    "group_manager = CanvasGroupManager(canvas_domain, access_token, course_id)"
   ]
  },
  {
   "cell_type": "markdown",
   "id": "4ba1f1b4-b7f5-4ca8-a60d-9b0f3c7f79a0",
   "metadata": {},
   "source": [
    "Create any number of groups sets, as named in the list above.\n",
    "\n",
    "This is the top level in Canvas (the big red \"+ Group Set\" button) and is a collection of groups."
   ]
  },
  {
   "cell_type": "code",
   "execution_count": 7,
   "id": "ab9fc655-f9bf-4851-8ac8-e584043cbdfc",
   "metadata": {},
   "outputs": [
    {
     "name": "stdout",
     "output_type": "stream",
     "text": [
      "Failed to create group category 'Tuesday 10-1': 400, {\"errors\":{\"name\":[{\"attribute\":\"name\",\"type\":\"Tuesday 10-1 is already in use.\",\"message\":\"Tuesday 10-1 is already in use.\"}]}}\n",
      "Failed to create group category 'Tuesday 2-5': 400, {\"errors\":{\"name\":[{\"attribute\":\"name\",\"type\":\"Tuesday 2-5 is already in use.\",\"message\":\"Tuesday 2-5 is already in use.\"}]}}\n",
      "Failed to create group category 'Thursday 10-1': 400, {\"errors\":{\"name\":[{\"attribute\":\"name\",\"type\":\"Thursday 10-1 is already in use.\",\"message\":\"Thursday 10-1 is already in use.\"}]}}\n",
      "Failed to create group category 'Thursday 2-5': 400, {\"errors\":{\"name\":[{\"attribute\":\"name\",\"type\":\"Thursday 2-5 is already in use.\",\"message\":\"Thursday 2-5 is already in use.\"}]}}\n",
      "Failed to create group category 'Friday 2-5': 400, {\"errors\":{\"name\":[{\"attribute\":\"name\",\"type\":\"Friday 2-5 is already in use.\",\"message\":\"Friday 2-5 is already in use.\"}]}}\n"
     ]
    }
   ],
   "source": [
    "group_manager.create_group_sets(group_sets)"
   ]
  },
  {
   "cell_type": "markdown",
   "id": "bd4a06fe-bc61-4579-ab8a-e27949ff0265",
   "metadata": {},
   "source": [
    "Canvas works with group ids, not the name, so we need to find these."
   ]
  },
  {
   "cell_type": "code",
   "execution_count": 8,
   "id": "5599e116-25a2-4f80-a559-a5d80e978eb6",
   "metadata": {},
   "outputs": [
    {
     "data": {
      "text/plain": [
       "{'Tuesday 10-1': 12784,\n",
       " 'Tuesday 2-5': 12785,\n",
       " 'Thursday 10-1': 12786,\n",
       " 'Thursday 2-5': 12787,\n",
       " 'Friday 2-5': 12788}"
      ]
     },
     "execution_count": 8,
     "metadata": {},
     "output_type": "execute_result"
    }
   ],
   "source": [
    "all_canvas_groups = group_manager.get_all_group_sets()\n",
    "group_sets_dict = dict(zip(all_canvas_groups['name'], all_canvas_groups['id']))\n",
    "group_sets_dict"
   ]
  },
  {
   "cell_type": "markdown",
   "id": "5ff7fe8c-6d22-43f0-af59-de7af9002d51",
   "metadata": {},
   "source": [
    "Create groups, sepcified in a list above, for a group set, as identified by the Canvas id."
   ]
  },
  {
   "cell_type": "code",
   "execution_count": 9,
   "id": "2c78d3f1-3c1b-42a5-aa27-83eae8474238",
   "metadata": {},
   "outputs": [
    {
     "name": "stdout",
     "output_type": "stream",
     "text": [
      "Group 'Lab 1' created successfully in group set 12784.\n",
      "Group 'Lab 2' created successfully in group set 12784.\n",
      "Group 'Lab 3' created successfully in group set 12784.\n",
      "Group 'Lab 4' created successfully in group set 12784.\n",
      "Group 'Lab 5' created successfully in group set 12784.\n",
      "Group 'Lab 1' created successfully in group set 12785.\n",
      "Group 'Lab 2' created successfully in group set 12785.\n",
      "Group 'Lab 3' created successfully in group set 12785.\n",
      "Group 'Lab 4' created successfully in group set 12785.\n",
      "Group 'Lab 5' created successfully in group set 12785.\n",
      "Group 'Lab 1' created successfully in group set 12786.\n",
      "Group 'Lab 2' created successfully in group set 12786.\n",
      "Group 'Lab 3' created successfully in group set 12786.\n",
      "Group 'Lab 4' created successfully in group set 12786.\n",
      "Group 'Lab 5' created successfully in group set 12786.\n",
      "Group 'Lab 1' created successfully in group set 12787.\n",
      "Group 'Lab 2' created successfully in group set 12787.\n",
      "Group 'Lab 3' created successfully in group set 12787.\n",
      "Group 'Lab 4' created successfully in group set 12787.\n",
      "Group 'Lab 5' created successfully in group set 12787.\n",
      "Group 'Lab 1' created successfully in group set 12788.\n",
      "Group 'Lab 2' created successfully in group set 12788.\n",
      "Group 'Lab 3' created successfully in group set 12788.\n",
      "Group 'Lab 4' created successfully in group set 12788.\n",
      "Group 'Lab 5' created successfully in group set 12788.\n"
     ]
    },
    {
     "data": {
      "text/plain": [
       "{12784: [{'name': 'Lab 1', 'id': 54780},\n",
       "  {'name': 'Lab 2', 'id': 54781},\n",
       "  {'name': 'Lab 3', 'id': 54782},\n",
       "  {'name': 'Lab 4', 'id': 54783},\n",
       "  {'name': 'Lab 5', 'id': 54784}],\n",
       " 12785: [{'name': 'Lab 1', 'id': 54785},\n",
       "  {'name': 'Lab 2', 'id': 54786},\n",
       "  {'name': 'Lab 3', 'id': 54787},\n",
       "  {'name': 'Lab 4', 'id': 54788},\n",
       "  {'name': 'Lab 5', 'id': 54789}],\n",
       " 12786: [{'name': 'Lab 1', 'id': 54790},\n",
       "  {'name': 'Lab 2', 'id': 54791},\n",
       "  {'name': 'Lab 3', 'id': 54792},\n",
       "  {'name': 'Lab 4', 'id': 54793},\n",
       "  {'name': 'Lab 5', 'id': 54794}],\n",
       " 12787: [{'name': 'Lab 1', 'id': 54795},\n",
       "  {'name': 'Lab 2', 'id': 54796},\n",
       "  {'name': 'Lab 3', 'id': 54797},\n",
       "  {'name': 'Lab 4', 'id': 54798},\n",
       "  {'name': 'Lab 5', 'id': 54799}],\n",
       " 12788: [{'name': 'Lab 1', 'id': 54800},\n",
       "  {'name': 'Lab 2', 'id': 54801},\n",
       "  {'name': 'Lab 3', 'id': 54802},\n",
       "  {'name': 'Lab 4', 'id': 54803},\n",
       "  {'name': 'Lab 5', 'id': 54804}]}"
      ]
     },
     "execution_count": 9,
     "metadata": {},
     "output_type": "execute_result"
    }
   ],
   "source": [
    "group_manager.create_groups_in_sets(group_sets_dict.values(), groups)"
   ]
  },
  {
   "cell_type": "markdown",
   "id": "3b3f82ff-d3d7-408d-9f86-0d108ab85556",
   "metadata": {},
   "source": [
    "If things have gone wrong, delete all the groups in a group set, identified by the Canvas id."
   ]
  },
  {
   "cell_type": "code",
   "execution_count": 10,
   "id": "1b92c939-77ca-4fe8-b473-ee6f95c4e3a1",
   "metadata": {},
   "outputs": [],
   "source": [
    "#group_manager.delete_all_groups_in_set(12772)"
   ]
  },
  {
   "cell_type": "markdown",
   "id": "72a87ce0-ffd2-4475-a334-ca5cb40f618f",
   "metadata": {},
   "source": [
    "## Assigning Students to Groups"
   ]
  },
  {
   "cell_type": "code",
   "execution_count": 11,
   "id": "7ad0f12e-5c75-463a-85c0-dd1cd8af7d08",
   "metadata": {},
   "outputs": [
    {
     "data": {
      "text/html": [
       "<div>\n",
       "<style scoped>\n",
       "    .dataframe tbody tr th:only-of-type {\n",
       "        vertical-align: middle;\n",
       "    }\n",
       "\n",
       "    .dataframe tbody tr th {\n",
       "        vertical-align: top;\n",
       "    }\n",
       "\n",
       "    .dataframe thead th {\n",
       "        text-align: right;\n",
       "    }\n",
       "</style>\n",
       "<table border=\"1\" class=\"dataframe\">\n",
       "  <thead>\n",
       "    <tr style=\"text-align: right;\">\n",
       "      <th></th>\n",
       "      <th>id</th>\n",
       "      <th>name</th>\n",
       "      <th>Tuesday 10-1</th>\n",
       "      <th>Tuesday 2-5</th>\n",
       "      <th>Thursday 10-1</th>\n",
       "      <th>Thursday 2-5</th>\n",
       "      <th>Friday 2-5</th>\n",
       "    </tr>\n",
       "  </thead>\n",
       "  <tbody>\n",
       "    <tr>\n",
       "      <th>0</th>\n",
       "      <td>1491</td>\n",
       "      <td>Matt Damon</td>\n",
       "      <td>Lab 1</td>\n",
       "      <td>Lab 5</td>\n",
       "      <td>Lab 4</td>\n",
       "      <td>Lab 3</td>\n",
       "      <td>Lab 2</td>\n",
       "    </tr>\n",
       "    <tr>\n",
       "      <th>1</th>\n",
       "      <td>1490</td>\n",
       "      <td>Jodie Foster</td>\n",
       "      <td>Lab 2</td>\n",
       "      <td>Lab 1</td>\n",
       "      <td>Lab 5</td>\n",
       "      <td>Lab 4</td>\n",
       "      <td>Lab 3</td>\n",
       "    </tr>\n",
       "    <tr>\n",
       "      <th>2</th>\n",
       "      <td>1492</td>\n",
       "      <td>Tom Hanks</td>\n",
       "      <td>Lab 3</td>\n",
       "      <td>Lab 2</td>\n",
       "      <td>Lab 1</td>\n",
       "      <td>Lab 5</td>\n",
       "      <td>Lab 4</td>\n",
       "    </tr>\n",
       "    <tr>\n",
       "      <th>3</th>\n",
       "      <td>1493</td>\n",
       "      <td>Liam Neeson</td>\n",
       "      <td>Lab 4</td>\n",
       "      <td>Lab 3</td>\n",
       "      <td>Lab 2</td>\n",
       "      <td>Lab 1</td>\n",
       "      <td>Lab 5</td>\n",
       "    </tr>\n",
       "    <tr>\n",
       "      <th>4</th>\n",
       "      <td>1489</td>\n",
       "      <td>Kate Winslet</td>\n",
       "      <td>Lab 5</td>\n",
       "      <td>Lab 4</td>\n",
       "      <td>Lab 3</td>\n",
       "      <td>Lab 2</td>\n",
       "      <td>Lab 1</td>\n",
       "    </tr>\n",
       "  </tbody>\n",
       "</table>\n",
       "</div>"
      ],
      "text/plain": [
       "     id          name Tuesday 10-1 Tuesday 2-5 Thursday 10-1 Thursday 2-5  \\\n",
       "0  1491    Matt Damon        Lab 1       Lab 5         Lab 4        Lab 3   \n",
       "1  1490  Jodie Foster        Lab 2       Lab 1         Lab 5        Lab 4   \n",
       "2  1492     Tom Hanks        Lab 3       Lab 2         Lab 1        Lab 5   \n",
       "3  1493   Liam Neeson        Lab 4       Lab 3         Lab 2        Lab 1   \n",
       "4  1489  Kate Winslet        Lab 5       Lab 4         Lab 3        Lab 2   \n",
       "\n",
       "  Friday 2-5  \n",
       "0      Lab 2  \n",
       "1      Lab 3  \n",
       "2      Lab 4  \n",
       "3      Lab 5  \n",
       "4      Lab 1  "
      ]
     },
     "execution_count": 11,
     "metadata": {},
     "output_type": "execute_result"
    }
   ],
   "source": [
    "# Move this above?\n",
    "student_groups = pd.read_excel('custom_groups.xlsx')\n",
    "student_groups.head()"
   ]
  },
  {
   "cell_type": "markdown",
   "id": "3271bd14-ec7e-46b1-9f27-979454c31bf7",
   "metadata": {},
   "source": [
    "We have a dictionary of the group sets above, we also need a dictionary of the groups within the group sets"
   ]
  },
  {
   "cell_type": "code",
   "execution_count": 12,
   "id": "ec165ab3-eef7-4989-94af-9df2e978a582",
   "metadata": {},
   "outputs": [
    {
     "data": {
      "text/plain": [
       "{'Tuesday 10-1': {'Lab 1': 54780,\n",
       "  'Lab 2': 54781,\n",
       "  'Lab 3': 54782,\n",
       "  'Lab 4': 54783,\n",
       "  'Lab 5': 54784},\n",
       " 'Tuesday 2-5': {'Lab 1': 54785,\n",
       "  'Lab 2': 54786,\n",
       "  'Lab 3': 54787,\n",
       "  'Lab 4': 54788,\n",
       "  'Lab 5': 54789},\n",
       " 'Thursday 10-1': {'Lab 1': 54790,\n",
       "  'Lab 2': 54791,\n",
       "  'Lab 3': 54792,\n",
       "  'Lab 4': 54793,\n",
       "  'Lab 5': 54794},\n",
       " 'Thursday 2-5': {'Lab 1': 54795,\n",
       "  'Lab 2': 54796,\n",
       "  'Lab 3': 54797,\n",
       "  'Lab 4': 54798,\n",
       "  'Lab 5': 54799},\n",
       " 'Friday 2-5': {'Lab 1': 54800,\n",
       "  'Lab 2': 54801,\n",
       "  'Lab 3': 54802,\n",
       "  'Lab 4': 54803,\n",
       "  'Lab 5': 54804}}"
      ]
     },
     "execution_count": 12,
     "metadata": {},
     "output_type": "execute_result"
    }
   ],
   "source": [
    "groups_dict = group_manager.get_all_groups(group_sets_dict)\n",
    "groups_dict"
   ]
  },
  {
   "cell_type": "markdown",
   "id": "1fdc1e76-257d-48a0-94f9-c2b4bd10ac09",
   "metadata": {},
   "source": [
    "Assign students to groups within the group sets based on th provided Excel data"
   ]
  },
  {
   "cell_type": "code",
   "execution_count": 13,
   "id": "69443e9b-1784-4d5b-aee1-621af8468980",
   "metadata": {},
   "outputs": [
    {
     "name": "stdout",
     "output_type": "stream",
     "text": [
      "Student Matt Damon (ID: 1491) successfully assigned to 'Lab 1' in 'Tuesday 10-1'\n",
      "Student Matt Damon (ID: 1491) successfully assigned to 'Lab 5' in 'Tuesday 2-5'\n",
      "Student Matt Damon (ID: 1491) successfully assigned to 'Lab 4' in 'Thursday 10-1'\n",
      "Student Matt Damon (ID: 1491) successfully assigned to 'Lab 3' in 'Thursday 2-5'\n",
      "Student Matt Damon (ID: 1491) successfully assigned to 'Lab 2' in 'Friday 2-5'\n",
      "Student Jodie Foster (ID: 1490) successfully assigned to 'Lab 2' in 'Tuesday 10-1'\n",
      "Student Jodie Foster (ID: 1490) successfully assigned to 'Lab 1' in 'Tuesday 2-5'\n",
      "Student Jodie Foster (ID: 1490) successfully assigned to 'Lab 5' in 'Thursday 10-1'\n",
      "Student Jodie Foster (ID: 1490) successfully assigned to 'Lab 4' in 'Thursday 2-5'\n",
      "Student Jodie Foster (ID: 1490) successfully assigned to 'Lab 3' in 'Friday 2-5'\n",
      "Student Tom Hanks (ID: 1492) successfully assigned to 'Lab 3' in 'Tuesday 10-1'\n",
      "Student Tom Hanks (ID: 1492) successfully assigned to 'Lab 2' in 'Tuesday 2-5'\n",
      "Student Tom Hanks (ID: 1492) successfully assigned to 'Lab 1' in 'Thursday 10-1'\n",
      "Student Tom Hanks (ID: 1492) successfully assigned to 'Lab 5' in 'Thursday 2-5'\n",
      "Student Tom Hanks (ID: 1492) successfully assigned to 'Lab 4' in 'Friday 2-5'\n",
      "Student Liam Neeson (ID: 1493) successfully assigned to 'Lab 4' in 'Tuesday 10-1'\n",
      "Student Liam Neeson (ID: 1493) successfully assigned to 'Lab 3' in 'Tuesday 2-5'\n",
      "Student Liam Neeson (ID: 1493) successfully assigned to 'Lab 2' in 'Thursday 10-1'\n",
      "Student Liam Neeson (ID: 1493) successfully assigned to 'Lab 1' in 'Thursday 2-5'\n",
      "Student Liam Neeson (ID: 1493) successfully assigned to 'Lab 5' in 'Friday 2-5'\n",
      "Student Kate Winslet (ID: 1489) successfully assigned to 'Lab 5' in 'Tuesday 10-1'\n",
      "Student Kate Winslet (ID: 1489) successfully assigned to 'Lab 4' in 'Tuesday 2-5'\n",
      "Student Kate Winslet (ID: 1489) successfully assigned to 'Lab 3' in 'Thursday 10-1'\n",
      "Student Kate Winslet (ID: 1489) successfully assigned to 'Lab 2' in 'Thursday 2-5'\n",
      "Student Kate Winslet (ID: 1489) successfully assigned to 'Lab 1' in 'Friday 2-5'\n"
     ]
    }
   ],
   "source": [
    "group_manager.assign_students_to_groups(student_groups, group_sets_dict, groups_dict)"
   ]
  },
  {
   "cell_type": "code",
   "execution_count": null,
   "id": "426e5ea2-e986-428d-952c-fdade291d72f",
   "metadata": {},
   "outputs": [],
   "source": []
  }
 ],
 "metadata": {
  "kernelspec": {
   "display_name": "Python 3 (ipykernel)",
   "language": "python",
   "name": "python3"
  },
  "language_info": {
   "codemirror_mode": {
    "name": "ipython",
    "version": 3
   },
   "file_extension": ".py",
   "mimetype": "text/x-python",
   "name": "python",
   "nbconvert_exporter": "python",
   "pygments_lexer": "ipython3",
   "version": "3.12.5"
  }
 },
 "nbformat": 4,
 "nbformat_minor": 5
}
