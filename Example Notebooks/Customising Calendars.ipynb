{
 "cells": [
  {
   "cell_type": "code",
   "execution_count": 1,
   "id": "9ceaaa63-c6b5-4081-9285-bf093d333057",
   "metadata": {},
   "outputs": [],
   "source": [
    "import os\n",
    "import pandas as pd\n",
    "from qub_canvas_helper.calendar import Calendar"
   ]
  },
  {
   "cell_type": "markdown",
   "id": "feaed896-ea18-40c7-9bdb-b25253b3d09b",
   "metadata": {},
   "source": [
    "# Canvas Login Details"
   ]
  },
  {
   "cell_type": "code",
   "execution_count": 2,
   "id": "8ddc6975-be54-4290-a8c0-a14da9ca7fef",
   "metadata": {},
   "outputs": [],
   "source": [
    "# Where on the internet is canvas\n",
    "canvas_domain = \"https://qub.instructure.com\"\n",
    "\n",
    "# Access token is now in .env under CANVAS_API_TOKEN\n",
    "access_token = os.getenv(\"CANVAS_API_TOKEN\")\n",
    "\n",
    "# Check this is set up properly\n",
    "if not access_token:\n",
    "    raise ValueError(\"Missing Canvas API token!\")"
   ]
  },
  {
   "cell_type": "markdown",
   "id": "ece5630d-9fcc-4ada-a038-8c30f5dedc6e",
   "metadata": {},
   "source": [
    "# Changes to Make    "
   ]
  },
  {
   "cell_type": "markdown",
   "id": "780cc3f9-726a-471f-a444-558e6aa0c268",
   "metadata": {},
   "source": [
    "Specify the course.\n",
    "\n",
    "The course_id can be found in the url of the module: https://canvas.qub.ac.uk/courses/27862"
   ]
  },
  {
   "cell_type": "code",
   "execution_count": 3,
   "id": "dbc348aa-b8ca-424e-bb8e-5cc50ebcbf07",
   "metadata": {},
   "outputs": [],
   "source": [
    "course_id = 27862"
   ]
  },
  {
   "cell_type": "markdown",
   "id": "6c81d7c5-5fe0-4dab-ae4e-1b9babe53173",
   "metadata": {},
   "source": [
    "Load the Excel file containing the custom calendar."
   ]
  },
  {
   "cell_type": "code",
   "execution_count": 4,
   "id": "639e44dd-07f8-411a-a309-dd2bf07d5fd2",
   "metadata": {},
   "outputs": [],
   "source": [
    "# Which excel file?\n",
    "excel_calendar = \"calendar_upload_test.xlsx\"\n",
    "\n",
    "# Specify the worksheet\n",
    "sheet_name = \"CHM1101\""
   ]
  },
  {
   "cell_type": "markdown",
   "id": "399413dc-256a-46ce-bc69-9e477dae9ae7",
   "metadata": {},
   "source": [
    "The Excel file must be of a very specific layout, be sure of this beforehand!"
   ]
  },
  {
   "cell_type": "code",
   "execution_count": 5,
   "id": "82eeb1c8-3e26-43f1-91a4-e9ac3e412ac8",
   "metadata": {},
   "outputs": [
    {
     "data": {
      "text/html": [
       "<div>\n",
       "<style scoped>\n",
       "    .dataframe tbody tr th:only-of-type {\n",
       "        vertical-align: middle;\n",
       "    }\n",
       "\n",
       "    .dataframe tbody tr th {\n",
       "        vertical-align: top;\n",
       "    }\n",
       "\n",
       "    .dataframe thead th {\n",
       "        text-align: right;\n",
       "    }\n",
       "</style>\n",
       "<table border=\"1\" class=\"dataframe\">\n",
       "  <thead>\n",
       "    <tr style=\"text-align: right;\">\n",
       "      <th></th>\n",
       "      <th>Week No.</th>\n",
       "      <th>Day</th>\n",
       "      <th>Date</th>\n",
       "      <th>Start Time</th>\n",
       "      <th>End Time</th>\n",
       "      <th>Topic</th>\n",
       "      <th>Notes</th>\n",
       "      <th>Staff</th>\n",
       "      <th>Room</th>\n",
       "      <th>Normal Capacity</th>\n",
       "      <th>Category</th>\n",
       "      <th>Module Code</th>\n",
       "    </tr>\n",
       "  </thead>\n",
       "  <tbody>\n",
       "    <tr>\n",
       "      <th>0</th>\n",
       "      <td>8.0</td>\n",
       "      <td>Monday</td>\n",
       "      <td>2024-11-14 00:00:00</td>\n",
       "      <td>09:00:00</td>\n",
       "      <td>10:00:00</td>\n",
       "      <td>NaN</td>\n",
       "      <td>NaN</td>\n",
       "      <td>Notareal Person</td>\n",
       "      <td>DKB/OG/115</td>\n",
       "      <td>393</td>\n",
       "      <td>Lecture</td>\n",
       "      <td>CHM1101</td>\n",
       "    </tr>\n",
       "    <tr>\n",
       "      <th>1</th>\n",
       "      <td>9.0</td>\n",
       "      <td>Monday</td>\n",
       "      <td>2024-11-14 00:00:00</td>\n",
       "      <td>10:00:00</td>\n",
       "      <td>11:00:00</td>\n",
       "      <td>Tutorial</td>\n",
       "      <td>details will be in a separate e-mail</td>\n",
       "      <td>all Organic Lecturers</td>\n",
       "      <td>NaN</td>\n",
       "      <td>NaN</td>\n",
       "      <td>Tutorial</td>\n",
       "      <td>CHM1101</td>\n",
       "    </tr>\n",
       "    <tr>\n",
       "      <th>2</th>\n",
       "      <td>10.0</td>\n",
       "      <td>Monday</td>\n",
       "      <td>2024-11-21 00:00:00</td>\n",
       "      <td>10:00:00</td>\n",
       "      <td>11:00:00</td>\n",
       "      <td>Tutorial</td>\n",
       "      <td>details will be in a separate e-mail</td>\n",
       "      <td>all Organic Lecturers</td>\n",
       "      <td>NaN</td>\n",
       "      <td>NaN</td>\n",
       "      <td>Tutorial</td>\n",
       "      <td>CHM1101</td>\n",
       "    </tr>\n",
       "    <tr>\n",
       "      <th>3</th>\n",
       "      <td>12.0</td>\n",
       "      <td>Monday</td>\n",
       "      <td>2024-11-28 00:00:00</td>\n",
       "      <td>10:00:00</td>\n",
       "      <td>11:00:00</td>\n",
       "      <td>Tutorial</td>\n",
       "      <td>details will be in a separate e-mail</td>\n",
       "      <td>all Organic Lecturers</td>\n",
       "      <td>NaN</td>\n",
       "      <td>NaN</td>\n",
       "      <td>Tutorial</td>\n",
       "      <td>CHM1101</td>\n",
       "    </tr>\n",
       "    <tr>\n",
       "      <th>4</th>\n",
       "      <td>12.0</td>\n",
       "      <td>Tuesday</td>\n",
       "      <td>2024-11-16 00:00:00</td>\n",
       "      <td>11:00:00</td>\n",
       "      <td>13:00:00</td>\n",
       "      <td>NaN</td>\n",
       "      <td>NaN</td>\n",
       "      <td>Lecturer McLecturerFace</td>\n",
       "      <td>ASH/01/005</td>\n",
       "      <td>253</td>\n",
       "      <td>Workshop</td>\n",
       "      <td>CHM1101</td>\n",
       "    </tr>\n",
       "  </tbody>\n",
       "</table>\n",
       "</div>"
      ],
      "text/plain": [
       "   Week No.      Day                 Date Start Time  End Time     Topic  \\\n",
       "0       8.0   Monday  2024-11-14 00:00:00   09:00:00  10:00:00       NaN   \n",
       "1       9.0   Monday  2024-11-14 00:00:00   10:00:00  11:00:00  Tutorial   \n",
       "2      10.0   Monday  2024-11-21 00:00:00   10:00:00  11:00:00  Tutorial   \n",
       "3      12.0   Monday  2024-11-28 00:00:00   10:00:00  11:00:00  Tutorial   \n",
       "4      12.0  Tuesday  2024-11-16 00:00:00   11:00:00  13:00:00       NaN   \n",
       "\n",
       "                                  Notes                    Staff        Room  \\\n",
       "0                                   NaN          Notareal Person  DKB/OG/115   \n",
       "1  details will be in a separate e-mail    all Organic Lecturers         NaN   \n",
       "2  details will be in a separate e-mail    all Organic Lecturers         NaN   \n",
       "3  details will be in a separate e-mail    all Organic Lecturers         NaN   \n",
       "4                                   NaN  Lecturer McLecturerFace  ASH/01/005   \n",
       "\n",
       "  Normal Capacity  Category Module Code  \n",
       "0             393   Lecture     CHM1101  \n",
       "1             NaN  Tutorial     CHM1101  \n",
       "2             NaN  Tutorial     CHM1101  \n",
       "3             NaN  Tutorial     CHM1101  \n",
       "4             253  Workshop     CHM1101  "
      ]
     },
     "execution_count": 5,
     "metadata": {},
     "output_type": "execute_result"
    }
   ],
   "source": [
    "# Load excel sheetm the first few rows do not contain timetable information\n",
    "timetable_df = pd.read_excel(excel_calendar, sheet_name = sheet_name, skiprows = 4)\n",
    "\n",
    "# The module code is usually in cell D2, extract this and add as a new column\n",
    "module_code_df = pd.read_excel(excel_calendar, sheet_name=0, nrows=2, usecols='D')\n",
    "module_code = module_code_df.iloc[0, 0]\n",
    "timetable_df['Module Code'] = module_code\n",
    "\n",
    "# CLean the data\n",
    "timetable_df = timetable_df.dropna(subset=['Category'])\n",
    "\n",
    "timetable_df.head()"
   ]
  },
  {
   "cell_type": "markdown",
   "id": "231372d7-28b6-44ee-8a73-cfda24dc54db",
   "metadata": {},
   "source": [
    "Specify categories if required"
   ]
  },
  {
   "cell_type": "code",
   "execution_count": 6,
   "id": "cedbacaf-e73d-4035-ad25-ad600d00d064",
   "metadata": {},
   "outputs": [
    {
     "data": {
      "text/html": [
       "<div>\n",
       "<style scoped>\n",
       "    .dataframe tbody tr th:only-of-type {\n",
       "        vertical-align: middle;\n",
       "    }\n",
       "\n",
       "    .dataframe tbody tr th {\n",
       "        vertical-align: top;\n",
       "    }\n",
       "\n",
       "    .dataframe thead th {\n",
       "        text-align: right;\n",
       "    }\n",
       "</style>\n",
       "<table border=\"1\" class=\"dataframe\">\n",
       "  <thead>\n",
       "    <tr style=\"text-align: right;\">\n",
       "      <th></th>\n",
       "      <th>Week No.</th>\n",
       "      <th>Day</th>\n",
       "      <th>Date</th>\n",
       "      <th>Start Time</th>\n",
       "      <th>End Time</th>\n",
       "      <th>Topic</th>\n",
       "      <th>Notes</th>\n",
       "      <th>Staff</th>\n",
       "      <th>Room</th>\n",
       "      <th>Normal Capacity</th>\n",
       "      <th>Category</th>\n",
       "      <th>Module Code</th>\n",
       "    </tr>\n",
       "  </thead>\n",
       "  <tbody>\n",
       "    <tr>\n",
       "      <th>0</th>\n",
       "      <td>8.0</td>\n",
       "      <td>Monday</td>\n",
       "      <td>2024-11-14 00:00:00</td>\n",
       "      <td>09:00:00</td>\n",
       "      <td>10:00:00</td>\n",
       "      <td>NaN</td>\n",
       "      <td>NaN</td>\n",
       "      <td>Notareal Person</td>\n",
       "      <td>DKB/OG/115</td>\n",
       "      <td>393</td>\n",
       "      <td>Lecture</td>\n",
       "      <td>CHM1101</td>\n",
       "    </tr>\n",
       "    <tr>\n",
       "      <th>4</th>\n",
       "      <td>12.0</td>\n",
       "      <td>Tuesday</td>\n",
       "      <td>2024-11-16 00:00:00</td>\n",
       "      <td>11:00:00</td>\n",
       "      <td>13:00:00</td>\n",
       "      <td>NaN</td>\n",
       "      <td>NaN</td>\n",
       "      <td>Lecturer McLecturerFace</td>\n",
       "      <td>ASH/01/005</td>\n",
       "      <td>253</td>\n",
       "      <td>Workshop</td>\n",
       "      <td>CHM1101</td>\n",
       "    </tr>\n",
       "  </tbody>\n",
       "</table>\n",
       "</div>"
      ],
      "text/plain": [
       "   Week No.      Day                 Date Start Time  End Time Topic Notes  \\\n",
       "0       8.0   Monday  2024-11-14 00:00:00   09:00:00  10:00:00   NaN   NaN   \n",
       "4      12.0  Tuesday  2024-11-16 00:00:00   11:00:00  13:00:00   NaN   NaN   \n",
       "\n",
       "                     Staff        Room Normal Capacity  Category Module Code  \n",
       "0          Notareal Person  DKB/OG/115             393   Lecture     CHM1101  \n",
       "4  Lecturer McLecturerFace  ASH/01/005             253  Workshop     CHM1101  "
      ]
     },
     "execution_count": 6,
     "metadata": {},
     "output_type": "execute_result"
    }
   ],
   "source": [
    "# Categories to use\n",
    "useful_categories = (\"Workshop\", \"Lecture\", \"Labs\")\n",
    "\n",
    "# Filter the timetable by useful_categories\n",
    "filtered_timetable_df = timetable_df[timetable_df['Category'].isin(useful_categories)]\n",
    "filtered_timetable_df.head()"
   ]
  },
  {
   "cell_type": "markdown",
   "id": "1a1c43f3-9929-4601-a897-693d06b58353",
   "metadata": {},
   "source": [
    "# Upload a Custom Calendar"
   ]
  },
  {
   "cell_type": "markdown",
   "id": "8cf48f27-a9a4-4590-a7c2-5e9d5d40a9e5",
   "metadata": {},
   "source": [
    "Instantiate the class using the data provided above."
   ]
  },
  {
   "cell_type": "code",
   "execution_count": 7,
   "id": "4a90d2fe-3f63-4c8b-a6f1-e1dbe5d39be4",
   "metadata": {},
   "outputs": [],
   "source": [
    "calendar_manager = Calendar(canvas_domain, access_token, course_id)"
   ]
  },
  {
   "cell_type": "markdown",
   "id": "2554398b-c7e6-4f1a-963b-340120489aee",
   "metadata": {},
   "source": [
    "See what assignments are already in the calendar. A date range must be specified, without the call defaults to today only."
   ]
  },
  {
   "cell_type": "code",
   "execution_count": 8,
   "id": "1a0d2e71-6af0-408e-811a-748cde26bf96",
   "metadata": {},
   "outputs": [
    {
     "data": {
      "text/html": [
       "<div>\n",
       "<style scoped>\n",
       "    .dataframe tbody tr th:only-of-type {\n",
       "        vertical-align: middle;\n",
       "    }\n",
       "\n",
       "    .dataframe tbody tr th {\n",
       "        vertical-align: top;\n",
       "    }\n",
       "\n",
       "    .dataframe thead th {\n",
       "        text-align: right;\n",
       "    }\n",
       "</style>\n",
       "<table border=\"1\" class=\"dataframe\">\n",
       "  <thead>\n",
       "    <tr style=\"text-align: right;\">\n",
       "      <th></th>\n",
       "      <th>id</th>\n",
       "      <th>title</th>\n",
       "      <th>start_at</th>\n",
       "      <th>end_at</th>\n",
       "      <th>workflow_state</th>\n",
       "      <th>created_at</th>\n",
       "      <th>updated_at</th>\n",
       "      <th>all_day</th>\n",
       "      <th>all_day_date</th>\n",
       "      <th>comments</th>\n",
       "      <th>...</th>\n",
       "      <th>context_code</th>\n",
       "      <th>context_name</th>\n",
       "      <th>context_color</th>\n",
       "      <th>parent_event_id</th>\n",
       "      <th>hidden</th>\n",
       "      <th>child_events</th>\n",
       "      <th>url</th>\n",
       "      <th>html_url</th>\n",
       "      <th>duplicates</th>\n",
       "      <th>important_dates</th>\n",
       "    </tr>\n",
       "  </thead>\n",
       "  <tbody>\n",
       "    <tr>\n",
       "      <th>0</th>\n",
       "      <td>131812</td>\n",
       "      <td>No Topic</td>\n",
       "      <td>2024-11-14T09:00:00Z</td>\n",
       "      <td>2024-11-14T10:00:00Z</td>\n",
       "      <td>active</td>\n",
       "      <td>2024-10-14T14:33:32Z</td>\n",
       "      <td>2024-10-14T14:33:32Z</td>\n",
       "      <td>False</td>\n",
       "      <td>None</td>\n",
       "      <td>None</td>\n",
       "      <td>...</td>\n",
       "      <td>course_27862</td>\n",
       "      <td>Paul Dingwall - Familiarisation Area</td>\n",
       "      <td>None</td>\n",
       "      <td>None</td>\n",
       "      <td>False</td>\n",
       "      <td>[]</td>\n",
       "      <td>https://qub.instructure.com/api/v1/calendar_ev...</td>\n",
       "      <td>https://qub.instructure.com/calendar?event_id=...</td>\n",
       "      <td>[]</td>\n",
       "      <td>False</td>\n",
       "    </tr>\n",
       "    <tr>\n",
       "      <th>1</th>\n",
       "      <td>131813</td>\n",
       "      <td>No Topic</td>\n",
       "      <td>2024-11-16T11:00:00Z</td>\n",
       "      <td>2024-11-16T13:00:00Z</td>\n",
       "      <td>active</td>\n",
       "      <td>2024-10-14T14:33:33Z</td>\n",
       "      <td>2024-10-14T14:33:33Z</td>\n",
       "      <td>False</td>\n",
       "      <td>None</td>\n",
       "      <td>None</td>\n",
       "      <td>...</td>\n",
       "      <td>course_27862</td>\n",
       "      <td>Paul Dingwall - Familiarisation Area</td>\n",
       "      <td>None</td>\n",
       "      <td>None</td>\n",
       "      <td>False</td>\n",
       "      <td>[]</td>\n",
       "      <td>https://qub.instructure.com/api/v1/calendar_ev...</td>\n",
       "      <td>https://qub.instructure.com/calendar?event_id=...</td>\n",
       "      <td>[]</td>\n",
       "      <td>False</td>\n",
       "    </tr>\n",
       "  </tbody>\n",
       "</table>\n",
       "<p>2 rows × 29 columns</p>\n",
       "</div>"
      ],
      "text/plain": [
       "       id     title              start_at                end_at  \\\n",
       "0  131812  No Topic  2024-11-14T09:00:00Z  2024-11-14T10:00:00Z   \n",
       "1  131813  No Topic  2024-11-16T11:00:00Z  2024-11-16T13:00:00Z   \n",
       "\n",
       "  workflow_state            created_at            updated_at  all_day  \\\n",
       "0         active  2024-10-14T14:33:32Z  2024-10-14T14:33:32Z    False   \n",
       "1         active  2024-10-14T14:33:33Z  2024-10-14T14:33:33Z    False   \n",
       "\n",
       "  all_day_date comments  ...  context_code  \\\n",
       "0         None     None  ...  course_27862   \n",
       "1         None     None  ...  course_27862   \n",
       "\n",
       "                           context_name  context_color parent_event_id hidden  \\\n",
       "0  Paul Dingwall - Familiarisation Area           None            None  False   \n",
       "1  Paul Dingwall - Familiarisation Area           None            None  False   \n",
       "\n",
       "  child_events                                                url  \\\n",
       "0           []  https://qub.instructure.com/api/v1/calendar_ev...   \n",
       "1           []  https://qub.instructure.com/api/v1/calendar_ev...   \n",
       "\n",
       "                                            html_url duplicates  \\\n",
       "0  https://qub.instructure.com/calendar?event_id=...         []   \n",
       "1  https://qub.instructure.com/calendar?event_id=...         []   \n",
       "\n",
       "  important_dates  \n",
       "0           False  \n",
       "1           False  \n",
       "\n",
       "[2 rows x 29 columns]"
      ]
     },
     "execution_count": 8,
     "metadata": {},
     "output_type": "execute_result"
    }
   ],
   "source": [
    "calendar_manager.fetch_course_calendar_events(start_date=\"2024-10-14\", end_date=\"2024-11-30\")"
   ]
  },
  {
   "cell_type": "markdown",
   "id": "79daa55d-6acb-4647-84de-f2664293e61a",
   "metadata": {},
   "source": [
    "Upload the timetable events outlined in the Excel file. If a conflict is detected, based on time slot, then no event is created."
   ]
  },
  {
   "cell_type": "code",
   "execution_count": 9,
   "id": "4f66ada5-25a1-4e80-857e-6bb5aa34e942",
   "metadata": {},
   "outputs": [
    {
     "name": "stdout",
     "output_type": "stream",
     "text": [
      "Conflict detected for No Topic on 2024-11-14 at 09:00. Skipping creation.\n",
      "Conflict detected for No Topic on 2024-11-16 at 11:00. Skipping creation.\n"
     ]
    }
   ],
   "source": [
    "calendar_manager.upload_calendar(filtered_timetable_df)"
   ]
  },
  {
   "cell_type": "markdown",
   "id": "c47ea213-fd20-4f5b-beae-6e9c75915c75",
   "metadata": {},
   "source": [
    "If mistakes are made, events can be removed. This will not remove assignments."
   ]
  },
  {
   "cell_type": "code",
   "execution_count": 10,
   "id": "25a9979d-375c-4e23-bbd9-d63fe16f771f",
   "metadata": {},
   "outputs": [
    {
     "name": "stdout",
     "output_type": "stream",
     "text": [
      "Successfully removed event No Topic (ID: 131812) on 11/14/2024 at 09:00\n",
      "Successfully removed event No Topic (ID: 131813) on 11/16/2024 at 11:00\n"
     ]
    }
   ],
   "source": [
    "calendar_manager.remove_calendar_events(start_date=\"2024-10-14\", end_date=\"2024-11-30\")"
   ]
  },
  {
   "cell_type": "markdown",
   "id": "6a2d6b38-5234-4169-91cd-7a0d1da8b15d",
   "metadata": {},
   "source": [
    "Fetch event information by event id."
   ]
  },
  {
   "cell_type": "code",
   "execution_count": 11,
   "id": "e31a1e76-3672-4c00-8390-c9c48a31cd98",
   "metadata": {},
   "outputs": [],
   "source": [
    "#calendar_manager.fetch_event_by_id(131366)"
   ]
  }
 ],
 "metadata": {
  "kernelspec": {
   "display_name": "Python 3 (ipykernel)",
   "language": "python",
   "name": "python3"
  },
  "language_info": {
   "codemirror_mode": {
    "name": "ipython",
    "version": 3
   },
   "file_extension": ".py",
   "mimetype": "text/x-python",
   "name": "python",
   "nbconvert_exporter": "python",
   "pygments_lexer": "ipython3",
   "version": "3.8.18"
  }
 },
 "nbformat": 4,
 "nbformat_minor": 5
}
