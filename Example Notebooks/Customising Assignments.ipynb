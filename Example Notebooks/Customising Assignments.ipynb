{
 "cells": [
  {
   "cell_type": "code",
   "execution_count": 1,
   "id": "e5b85246-f698-4fbf-91a6-caba59486edd",
   "metadata": {},
   "outputs": [],
   "source": [
    "import os\n",
    "import pandas as pd\n",
    "from qub_canvas_helper.assignments import CanvasAssignmentManager"
   ]
  },
  {
   "cell_type": "markdown",
   "id": "32a40c87-0198-4df9-8329-317035f75731",
   "metadata": {},
   "source": [
    "# Canvas Login Details"
   ]
  },
  {
   "cell_type": "code",
   "execution_count": 6,
   "id": "db1f8e12-e341-438f-a6bb-7b20fdcb637e",
   "metadata": {},
   "outputs": [],
   "source": [
    "# Where on the internet is canvas\n",
    "canvas_domain = \"https://qub.instructure.com\"\n",
    "\n",
    "# Access token is now in .env under CANVAS_API_TOKEN\n",
    "access_token = os.getenv(\"CANVAS_API_TOKEN\")\n",
    "\n",
    "# Check this is set up properly\n",
    "if not access_token:\n",
    "    raise ValueError(\"Missing Canvas API token!\")"
   ]
  },
  {
   "cell_type": "markdown",
   "id": "41bd024c-8ced-4b14-94d3-83f52d72b426",
   "metadata": {},
   "source": [
    "# Configure Details"
   ]
  },
  {
   "cell_type": "markdown",
   "id": "fd81635d-c363-4440-9aea-6c646f832c23",
   "metadata": {},
   "source": [
    "Specify the course. Some of the code will not work in a familiarisation environment as the has no sis_student_ids.\n",
    "\n",
    "The course_id can be found in the url of the module: https://canvas.qub.ac.uk/courses/27862"
   ]
  },
  {
   "cell_type": "code",
   "execution_count": 2,
   "id": "6a1e2ad3-e6b1-40a9-8461-93a2e7ec650f",
   "metadata": {},
   "outputs": [],
   "source": [
    "course_id = 27862"
   ]
  },
  {
   "cell_type": "markdown",
   "id": "c1a30085-5292-4098-8203-e3ea631b63c0",
   "metadata": {},
   "source": [
    "Load the Excel file containing the list of students, which assignments they will have and when.\n",
    "\n",
    "FORMAT: id (student ID) | name | \"Date of assignment\""
   ]
  },
  {
   "cell_type": "code",
   "execution_count": 4,
   "id": "aed0b304-c189-4118-a665-15c360037e80",
   "metadata": {},
   "outputs": [
    {
     "data": {
      "text/html": [
       "<div>\n",
       "<style scoped>\n",
       "    .dataframe tbody tr th:only-of-type {\n",
       "        vertical-align: middle;\n",
       "    }\n",
       "\n",
       "    .dataframe tbody tr th {\n",
       "        vertical-align: top;\n",
       "    }\n",
       "\n",
       "    .dataframe thead th {\n",
       "        text-align: right;\n",
       "    }\n",
       "</style>\n",
       "<table border=\"1\" class=\"dataframe\">\n",
       "  <thead>\n",
       "    <tr style=\"text-align: right;\">\n",
       "      <th></th>\n",
       "      <th>id</th>\n",
       "      <th>name</th>\n",
       "      <th>2024-10-24 00:00:00</th>\n",
       "      <th>2024-11-01 00:00:00</th>\n",
       "    </tr>\n",
       "  </thead>\n",
       "  <tbody>\n",
       "    <tr>\n",
       "      <th>0</th>\n",
       "      <td>1491</td>\n",
       "      <td>Matt Damon</td>\n",
       "      <td>P1</td>\n",
       "      <td>P2</td>\n",
       "    </tr>\n",
       "    <tr>\n",
       "      <th>1</th>\n",
       "      <td>1490</td>\n",
       "      <td>Jodie Foster</td>\n",
       "      <td>P1</td>\n",
       "      <td>P2</td>\n",
       "    </tr>\n",
       "    <tr>\n",
       "      <th>2</th>\n",
       "      <td>1492</td>\n",
       "      <td>Tom Hanks</td>\n",
       "      <td>P1</td>\n",
       "      <td>P2</td>\n",
       "    </tr>\n",
       "    <tr>\n",
       "      <th>3</th>\n",
       "      <td>1493</td>\n",
       "      <td>Liam Neeson</td>\n",
       "      <td>P2</td>\n",
       "      <td>P1</td>\n",
       "    </tr>\n",
       "    <tr>\n",
       "      <th>4</th>\n",
       "      <td>45</td>\n",
       "      <td>Notareal Person</td>\n",
       "      <td>P2</td>\n",
       "      <td>P1</td>\n",
       "    </tr>\n",
       "  </tbody>\n",
       "</table>\n",
       "</div>"
      ],
      "text/plain": [
       "     id             name 2024-10-24 00:00:00 2024-11-01 00:00:00\n",
       "0  1491       Matt Damon                  P1                  P2\n",
       "1  1490     Jodie Foster                  P1                  P2\n",
       "2  1492        Tom Hanks                  P1                  P2\n",
       "3  1493      Liam Neeson                  P2                  P1\n",
       "4    45  Notareal Person                  P2                  P1"
      ]
     },
     "execution_count": 4,
     "metadata": {},
     "output_type": "execute_result"
    }
   ],
   "source": [
    "df_students = pd.read_excel(\"custom_assignments_test.xlsx\")\n",
    "#df_students['id'] = df_students['id'].astype('string') # stops an error later on\n",
    "df_students.head()"
   ]
  },
  {
   "cell_type": "markdown",
   "id": "c0265c6f-c9b7-4ad8-8298-7af04bfcc470",
   "metadata": {},
   "source": [
    "# Start Talking to Canvas"
   ]
  },
  {
   "cell_type": "markdown",
   "id": "3b43bd4e-c0ef-4f75-ace4-18f7b4ed7db0",
   "metadata": {},
   "source": [
    "Instantiate the class using the data provided above"
   ]
  },
  {
   "cell_type": "code",
   "execution_count": 7,
   "id": "af4b0f60-59bb-45af-b204-3960f7978124",
   "metadata": {},
   "outputs": [],
   "source": [
    "assignment_manager = CanvasAssignmentManager(canvas_domain, access_token, course_id)"
   ]
  },
  {
   "cell_type": "markdown",
   "id": "a5f78bac-b792-44af-8754-f26672d5b046",
   "metadata": {},
   "source": [
    "Return a dataframe of the students enrolled on canvas.\n",
    "\n",
    "This is filtered for active students only.\n",
    "\n",
    "Be patient, this can take a while for large modules."
   ]
  },
  {
   "cell_type": "code",
   "execution_count": 8,
   "id": "3e21eded-fb19-4648-8027-c5a95cbec058",
   "metadata": {},
   "outputs": [
    {
     "data": {
      "text/html": [
       "<div>\n",
       "<style scoped>\n",
       "    .dataframe tbody tr th:only-of-type {\n",
       "        vertical-align: middle;\n",
       "    }\n",
       "\n",
       "    .dataframe tbody tr th {\n",
       "        vertical-align: top;\n",
       "    }\n",
       "\n",
       "    .dataframe thead th {\n",
       "        text-align: right;\n",
       "    }\n",
       "</style>\n",
       "<table border=\"1\" class=\"dataframe\">\n",
       "  <thead>\n",
       "    <tr style=\"text-align: right;\">\n",
       "      <th></th>\n",
       "      <th>id</th>\n",
       "      <th>name</th>\n",
       "      <th>created_at</th>\n",
       "      <th>sortable_name</th>\n",
       "      <th>short_name</th>\n",
       "      <th>sis_user_id</th>\n",
       "      <th>integration_id</th>\n",
       "    </tr>\n",
       "  </thead>\n",
       "  <tbody>\n",
       "    <tr>\n",
       "      <th>0</th>\n",
       "      <td>1491</td>\n",
       "      <td>Matt Damon</td>\n",
       "      <td>2018-05-09T10:06:55+01:00</td>\n",
       "      <td>Damon, Matt</td>\n",
       "      <td>Matt Damon</td>\n",
       "      <td>FA_Student3</td>\n",
       "      <td>None</td>\n",
       "    </tr>\n",
       "    <tr>\n",
       "      <th>1</th>\n",
       "      <td>1490</td>\n",
       "      <td>Jodie Foster</td>\n",
       "      <td>2018-05-09T10:06:32+01:00</td>\n",
       "      <td>Foster, Jodie</td>\n",
       "      <td>Jodie Foster</td>\n",
       "      <td>FA_Student2</td>\n",
       "      <td>None</td>\n",
       "    </tr>\n",
       "    <tr>\n",
       "      <th>2</th>\n",
       "      <td>1492</td>\n",
       "      <td>Tom Hanks</td>\n",
       "      <td>2018-05-09T10:07:15+01:00</td>\n",
       "      <td>Hanks, Tom</td>\n",
       "      <td>Tom Hanks</td>\n",
       "      <td>FA_Student4</td>\n",
       "      <td>None</td>\n",
       "    </tr>\n",
       "    <tr>\n",
       "      <th>3</th>\n",
       "      <td>1493</td>\n",
       "      <td>Liam Neeson</td>\n",
       "      <td>2018-05-09T10:07:35+01:00</td>\n",
       "      <td>Neeson, Liam</td>\n",
       "      <td>Liam Neeson</td>\n",
       "      <td>FA_Student5</td>\n",
       "      <td>None</td>\n",
       "    </tr>\n",
       "    <tr>\n",
       "      <th>4</th>\n",
       "      <td>1489</td>\n",
       "      <td>Kate Winslet</td>\n",
       "      <td>2018-05-09T10:06:07+01:00</td>\n",
       "      <td>Winslet, Kate</td>\n",
       "      <td>Kate Winslet</td>\n",
       "      <td>FA_Student1</td>\n",
       "      <td>None</td>\n",
       "    </tr>\n",
       "  </tbody>\n",
       "</table>\n",
       "</div>"
      ],
      "text/plain": [
       "     id          name                 created_at  sortable_name    short_name  \\\n",
       "0  1491    Matt Damon  2018-05-09T10:06:55+01:00    Damon, Matt    Matt Damon   \n",
       "1  1490  Jodie Foster  2018-05-09T10:06:32+01:00  Foster, Jodie  Jodie Foster   \n",
       "2  1492     Tom Hanks  2018-05-09T10:07:15+01:00     Hanks, Tom     Tom Hanks   \n",
       "3  1493   Liam Neeson  2018-05-09T10:07:35+01:00   Neeson, Liam   Liam Neeson   \n",
       "4  1489  Kate Winslet  2018-05-09T10:06:07+01:00  Winslet, Kate  Kate Winslet   \n",
       "\n",
       "   sis_user_id integration_id  \n",
       "0  FA_Student3           None  \n",
       "1  FA_Student2           None  \n",
       "2  FA_Student4           None  \n",
       "3  FA_Student5           None  \n",
       "4  FA_Student1           None  "
      ]
     },
     "execution_count": 8,
     "metadata": {},
     "output_type": "execute_result"
    }
   ],
   "source": [
    "assignment_manager.get_students_in_module()"
   ]
  },
  {
   "cell_type": "markdown",
   "id": "b3ae9715-f61d-4dd7-8bea-23f852529707",
   "metadata": {},
   "source": [
    "Return a dataframe of all the assignments in this module "
   ]
  },
  {
   "cell_type": "code",
   "execution_count": 9,
   "id": "2490b0d3-f7af-433d-8394-a7190787bc17",
   "metadata": {},
   "outputs": [
    {
     "data": {
      "text/html": [
       "<div>\n",
       "<style scoped>\n",
       "    .dataframe tbody tr th:only-of-type {\n",
       "        vertical-align: middle;\n",
       "    }\n",
       "\n",
       "    .dataframe tbody tr th {\n",
       "        vertical-align: top;\n",
       "    }\n",
       "\n",
       "    .dataframe thead th {\n",
       "        text-align: right;\n",
       "    }\n",
       "</style>\n",
       "<table border=\"1\" class=\"dataframe\">\n",
       "  <thead>\n",
       "    <tr style=\"text-align: right;\">\n",
       "      <th></th>\n",
       "      <th>id</th>\n",
       "      <th>name</th>\n",
       "      <th>due_at</th>\n",
       "      <th>points_possible</th>\n",
       "      <th>published</th>\n",
       "    </tr>\n",
       "  </thead>\n",
       "  <tbody>\n",
       "    <tr>\n",
       "      <th>0</th>\n",
       "      <td>181313</td>\n",
       "      <td>Example Assignment</td>\n",
       "      <td>2024-10-31T23:59:59Z</td>\n",
       "      <td>100.0</td>\n",
       "      <td>True</td>\n",
       "    </tr>\n",
       "    <tr>\n",
       "      <th>1</th>\n",
       "      <td>203603</td>\n",
       "      <td>Assignment 1</td>\n",
       "      <td>2024-11-01T23:59:59Z</td>\n",
       "      <td>0.0</td>\n",
       "      <td>True</td>\n",
       "    </tr>\n",
       "    <tr>\n",
       "      <th>2</th>\n",
       "      <td>203604</td>\n",
       "      <td>Assignment 2</td>\n",
       "      <td>2024-11-01T23:59:59Z</td>\n",
       "      <td>0.0</td>\n",
       "      <td>True</td>\n",
       "    </tr>\n",
       "  </tbody>\n",
       "</table>\n",
       "</div>"
      ],
      "text/plain": [
       "       id                name                due_at  points_possible  \\\n",
       "0  181313  Example Assignment  2024-10-31T23:59:59Z            100.0   \n",
       "1  203603        Assignment 1  2024-11-01T23:59:59Z              0.0   \n",
       "2  203604        Assignment 2  2024-11-01T23:59:59Z              0.0   \n",
       "\n",
       "   published  \n",
       "0       True  \n",
       "1       True  \n",
       "2       True  "
      ]
     },
     "execution_count": 9,
     "metadata": {},
     "output_type": "execute_result"
    }
   ],
   "source": [
    "assignment_manager.get_assignments_in_module(published_status = \"all\") # 'all', 'published', or 'unpublished'"
   ]
  },
  {
   "cell_type": "code",
   "execution_count": 10,
   "id": "c04f3acd-ddba-4f1d-9425-aeab85124e06",
   "metadata": {},
   "outputs": [],
   "source": [
    "assignment_dict = {\"P1\":\"203603\", \n",
    "                   \"P2\":\"203604\"} "
   ]
  },
  {
   "cell_type": "markdown",
   "id": "482e094c-18bc-4492-a660-cbd1b779a65e",
   "metadata": {},
   "source": [
    "Check that there are no missing or extra students on Canvas or in the Excel sheet. \n",
    "\n",
    "Works by comparing sis_student_id (Canvas) to the id specified in Excle. This must be the first column in the Excel sheet.\n",
    "\n",
    "Be patient, this can take a while for large modules. It will not work for the familiarisation area."
   ]
  },
  {
   "cell_type": "code",
   "execution_count": 11,
   "id": "88b108b6-482b-4a74-ace0-e542ad70b79d",
   "metadata": {},
   "outputs": [
    {
     "name": "stdout",
     "output_type": "stream",
     "text": [
      "Students missing in Canvas:\n",
      "- Matt Damon (ID: 1491)\n",
      "- Jodie Foster (ID: 1490)\n",
      "- Tom Hanks (ID: 1492)\n",
      "- Liam Neeson (ID: 1493)\n",
      "- Notareal Person (ID: 45)\n",
      "Students missing in Excel:\n",
      "- Damon, Matt (ID: FA_Student3)\n",
      "- Foster, Jodie (ID: FA_Student2)\n",
      "- Hanks, Tom (ID: FA_Student4)\n",
      "- Neeson, Liam (ID: FA_Student5)\n",
      "- Winslet, Kate (ID: FA_Student1)\n"
     ]
    }
   ],
   "source": [
    "assignment_manager.check_student_enrollment(df_students)"
   ]
  },
  {
   "cell_type": "markdown",
   "id": "08139652-dd62-466a-9f1d-090363382355",
   "metadata": {},
   "source": [
    "# Start Making Changes on Canvas"
   ]
  },
  {
   "cell_type": "markdown",
   "id": "30006908-1604-4f72-9099-838f30428c52",
   "metadata": {},
   "source": [
    "Assign students to assignments based on the Excel sheet provided.\n",
    "\n",
    "A check will first be made that there are no missing or extra students using the function above, this can be ignored if required."
   ]
  },
  {
   "cell_type": "code",
   "execution_count": 12,
   "id": "f65eccaa-b4de-487e-8ce7-bde7db58e933",
   "metadata": {},
   "outputs": [
    {
     "ename": "ValueError",
     "evalue": "invalid literal for int() with base 10: 'FA_Student3'",
     "output_type": "error",
     "traceback": [
      "\u001b[1;31m---------------------------------------------------------------------------\u001b[0m",
      "\u001b[1;31mValueError\u001b[0m                                Traceback (most recent call last)",
      "Cell \u001b[1;32mIn[12], line 1\u001b[0m\n\u001b[1;32m----> 1\u001b[0m \u001b[43massignment_manager\u001b[49m\u001b[38;5;241;43m.\u001b[39;49m\u001b[43massign_students_to_assignments\u001b[49m\u001b[43m(\u001b[49m\u001b[43mdf_students\u001b[49m\u001b[43m,\u001b[49m\u001b[43m \u001b[49m\u001b[43massignment_dict\u001b[49m\u001b[43m,\u001b[49m\u001b[43m \u001b[49m\u001b[43mcheck_enrollment\u001b[49m\u001b[38;5;241;43m=\u001b[39;49m\u001b[38;5;28;43;01mFalse\u001b[39;49;00m\u001b[43m)\u001b[49m\n",
      "File \u001b[1;32mc:\\users\\padin_000\\documents\\github\\qub_canvas_helper\\qub_canvas_helper\\assignments.py:275\u001b[0m, in \u001b[0;36mAssignments.assign_students_to_assignments\u001b[1;34m(self, df_students, assignment_dict, check_enrollment)\u001b[0m\n\u001b[0;32m    272\u001b[0m df_canvas_students \u001b[38;5;241m=\u001b[39m \u001b[38;5;28mself\u001b[39m\u001b[38;5;241m.\u001b[39mget_students_in_module()\n\u001b[0;32m    274\u001b[0m \u001b[38;5;66;03m# Create a dictionary where 'sis_user_id' is the key and 'id' is the value\u001b[39;00m\n\u001b[1;32m--> 275\u001b[0m df_canvas_students[\u001b[38;5;124m'\u001b[39m\u001b[38;5;124msis_user_id\u001b[39m\u001b[38;5;124m'\u001b[39m] \u001b[38;5;241m=\u001b[39m \u001b[43mdf_canvas_students\u001b[49m\u001b[43m[\u001b[49m\u001b[38;5;124;43m'\u001b[39;49m\u001b[38;5;124;43msis_user_id\u001b[39;49m\u001b[38;5;124;43m'\u001b[39;49m\u001b[43m]\u001b[49m\u001b[38;5;241;43m.\u001b[39;49m\u001b[43mastype\u001b[49m\u001b[43m(\u001b[49m\u001b[38;5;124;43m\"\u001b[39;49m\u001b[38;5;124;43mint64\u001b[39;49m\u001b[38;5;124;43m\"\u001b[39;49m\u001b[43m)\u001b[49m\n\u001b[0;32m    276\u001b[0m id_mapping_dict \u001b[38;5;241m=\u001b[39m df_canvas_students\u001b[38;5;241m.\u001b[39mset_index(\u001b[38;5;124m'\u001b[39m\u001b[38;5;124msis_user_id\u001b[39m\u001b[38;5;124m'\u001b[39m)[\u001b[38;5;124m'\u001b[39m\u001b[38;5;124mid\u001b[39m\u001b[38;5;124m'\u001b[39m]\u001b[38;5;241m.\u001b[39mto_dict()\n\u001b[0;32m    278\u001b[0m \u001b[38;5;66;03m# Map the id values\u001b[39;00m\n",
      "File \u001b[1;32m~\\anaconda3\\lib\\site-packages\\pandas\\core\\generic.py:6240\u001b[0m, in \u001b[0;36mNDFrame.astype\u001b[1;34m(self, dtype, copy, errors)\u001b[0m\n\u001b[0;32m   6233\u001b[0m     results \u001b[38;5;241m=\u001b[39m [\n\u001b[0;32m   6234\u001b[0m         \u001b[38;5;28mself\u001b[39m\u001b[38;5;241m.\u001b[39miloc[:, i]\u001b[38;5;241m.\u001b[39mastype(dtype, copy\u001b[38;5;241m=\u001b[39mcopy)\n\u001b[0;32m   6235\u001b[0m         \u001b[38;5;28;01mfor\u001b[39;00m i \u001b[38;5;129;01min\u001b[39;00m \u001b[38;5;28mrange\u001b[39m(\u001b[38;5;28mlen\u001b[39m(\u001b[38;5;28mself\u001b[39m\u001b[38;5;241m.\u001b[39mcolumns))\n\u001b[0;32m   6236\u001b[0m     ]\n\u001b[0;32m   6238\u001b[0m \u001b[38;5;28;01melse\u001b[39;00m:\n\u001b[0;32m   6239\u001b[0m     \u001b[38;5;66;03m# else, only a single dtype is given\u001b[39;00m\n\u001b[1;32m-> 6240\u001b[0m     new_data \u001b[38;5;241m=\u001b[39m \u001b[38;5;28;43mself\u001b[39;49m\u001b[38;5;241;43m.\u001b[39;49m\u001b[43m_mgr\u001b[49m\u001b[38;5;241;43m.\u001b[39;49m\u001b[43mastype\u001b[49m\u001b[43m(\u001b[49m\u001b[43mdtype\u001b[49m\u001b[38;5;241;43m=\u001b[39;49m\u001b[43mdtype\u001b[49m\u001b[43m,\u001b[49m\u001b[43m \u001b[49m\u001b[43mcopy\u001b[49m\u001b[38;5;241;43m=\u001b[39;49m\u001b[43mcopy\u001b[49m\u001b[43m,\u001b[49m\u001b[43m \u001b[49m\u001b[43merrors\u001b[49m\u001b[38;5;241;43m=\u001b[39;49m\u001b[43merrors\u001b[49m\u001b[43m)\u001b[49m\n\u001b[0;32m   6241\u001b[0m     \u001b[38;5;28;01mreturn\u001b[39;00m \u001b[38;5;28mself\u001b[39m\u001b[38;5;241m.\u001b[39m_constructor(new_data)\u001b[38;5;241m.\u001b[39m__finalize__(\u001b[38;5;28mself\u001b[39m, method\u001b[38;5;241m=\u001b[39m\u001b[38;5;124m\"\u001b[39m\u001b[38;5;124mastype\u001b[39m\u001b[38;5;124m\"\u001b[39m)\n\u001b[0;32m   6243\u001b[0m \u001b[38;5;66;03m# GH 33113: handle empty frame or series\u001b[39;00m\n",
      "File \u001b[1;32m~\\anaconda3\\lib\\site-packages\\pandas\\core\\internals\\managers.py:448\u001b[0m, in \u001b[0;36mBaseBlockManager.astype\u001b[1;34m(self, dtype, copy, errors)\u001b[0m\n\u001b[0;32m    447\u001b[0m \u001b[38;5;28;01mdef\u001b[39;00m \u001b[38;5;21mastype\u001b[39m(\u001b[38;5;28mself\u001b[39m: T, dtype, copy: \u001b[38;5;28mbool\u001b[39m \u001b[38;5;241m=\u001b[39m \u001b[38;5;28;01mFalse\u001b[39;00m, errors: \u001b[38;5;28mstr\u001b[39m \u001b[38;5;241m=\u001b[39m \u001b[38;5;124m\"\u001b[39m\u001b[38;5;124mraise\u001b[39m\u001b[38;5;124m\"\u001b[39m) \u001b[38;5;241m-\u001b[39m\u001b[38;5;241m>\u001b[39m T:\n\u001b[1;32m--> 448\u001b[0m     \u001b[38;5;28;01mreturn\u001b[39;00m \u001b[38;5;28;43mself\u001b[39;49m\u001b[38;5;241;43m.\u001b[39;49m\u001b[43mapply\u001b[49m\u001b[43m(\u001b[49m\u001b[38;5;124;43m\"\u001b[39;49m\u001b[38;5;124;43mastype\u001b[39;49m\u001b[38;5;124;43m\"\u001b[39;49m\u001b[43m,\u001b[49m\u001b[43m \u001b[49m\u001b[43mdtype\u001b[49m\u001b[38;5;241;43m=\u001b[39;49m\u001b[43mdtype\u001b[49m\u001b[43m,\u001b[49m\u001b[43m \u001b[49m\u001b[43mcopy\u001b[49m\u001b[38;5;241;43m=\u001b[39;49m\u001b[43mcopy\u001b[49m\u001b[43m,\u001b[49m\u001b[43m \u001b[49m\u001b[43merrors\u001b[49m\u001b[38;5;241;43m=\u001b[39;49m\u001b[43merrors\u001b[49m\u001b[43m)\u001b[49m\n",
      "File \u001b[1;32m~\\anaconda3\\lib\\site-packages\\pandas\\core\\internals\\managers.py:352\u001b[0m, in \u001b[0;36mBaseBlockManager.apply\u001b[1;34m(self, f, align_keys, ignore_failures, **kwargs)\u001b[0m\n\u001b[0;32m    350\u001b[0m         applied \u001b[38;5;241m=\u001b[39m b\u001b[38;5;241m.\u001b[39mapply(f, \u001b[38;5;241m*\u001b[39m\u001b[38;5;241m*\u001b[39mkwargs)\n\u001b[0;32m    351\u001b[0m     \u001b[38;5;28;01melse\u001b[39;00m:\n\u001b[1;32m--> 352\u001b[0m         applied \u001b[38;5;241m=\u001b[39m \u001b[38;5;28;43mgetattr\u001b[39;49m\u001b[43m(\u001b[49m\u001b[43mb\u001b[49m\u001b[43m,\u001b[49m\u001b[43m \u001b[49m\u001b[43mf\u001b[49m\u001b[43m)\u001b[49m\u001b[43m(\u001b[49m\u001b[38;5;241;43m*\u001b[39;49m\u001b[38;5;241;43m*\u001b[39;49m\u001b[43mkwargs\u001b[49m\u001b[43m)\u001b[49m\n\u001b[0;32m    353\u001b[0m \u001b[38;5;28;01mexcept\u001b[39;00m (\u001b[38;5;167;01mTypeError\u001b[39;00m, \u001b[38;5;167;01mNotImplementedError\u001b[39;00m):\n\u001b[0;32m    354\u001b[0m     \u001b[38;5;28;01mif\u001b[39;00m \u001b[38;5;129;01mnot\u001b[39;00m ignore_failures:\n",
      "File \u001b[1;32m~\\anaconda3\\lib\\site-packages\\pandas\\core\\internals\\blocks.py:526\u001b[0m, in \u001b[0;36mBlock.astype\u001b[1;34m(self, dtype, copy, errors)\u001b[0m\n\u001b[0;32m    508\u001b[0m \u001b[38;5;250m\u001b[39m\u001b[38;5;124;03m\"\"\"\u001b[39;00m\n\u001b[0;32m    509\u001b[0m \u001b[38;5;124;03mCoerce to the new dtype.\u001b[39;00m\n\u001b[0;32m    510\u001b[0m \n\u001b[1;32m   (...)\u001b[0m\n\u001b[0;32m    522\u001b[0m \u001b[38;5;124;03mBlock\u001b[39;00m\n\u001b[0;32m    523\u001b[0m \u001b[38;5;124;03m\"\"\"\u001b[39;00m\n\u001b[0;32m    524\u001b[0m values \u001b[38;5;241m=\u001b[39m \u001b[38;5;28mself\u001b[39m\u001b[38;5;241m.\u001b[39mvalues\n\u001b[1;32m--> 526\u001b[0m new_values \u001b[38;5;241m=\u001b[39m \u001b[43mastype_array_safe\u001b[49m\u001b[43m(\u001b[49m\u001b[43mvalues\u001b[49m\u001b[43m,\u001b[49m\u001b[43m \u001b[49m\u001b[43mdtype\u001b[49m\u001b[43m,\u001b[49m\u001b[43m \u001b[49m\u001b[43mcopy\u001b[49m\u001b[38;5;241;43m=\u001b[39;49m\u001b[43mcopy\u001b[49m\u001b[43m,\u001b[49m\u001b[43m \u001b[49m\u001b[43merrors\u001b[49m\u001b[38;5;241;43m=\u001b[39;49m\u001b[43merrors\u001b[49m\u001b[43m)\u001b[49m\n\u001b[0;32m    528\u001b[0m new_values \u001b[38;5;241m=\u001b[39m maybe_coerce_values(new_values)\n\u001b[0;32m    529\u001b[0m newb \u001b[38;5;241m=\u001b[39m \u001b[38;5;28mself\u001b[39m\u001b[38;5;241m.\u001b[39mmake_block(new_values)\n",
      "File \u001b[1;32m~\\anaconda3\\lib\\site-packages\\pandas\\core\\dtypes\\astype.py:299\u001b[0m, in \u001b[0;36mastype_array_safe\u001b[1;34m(values, dtype, copy, errors)\u001b[0m\n\u001b[0;32m    296\u001b[0m     \u001b[38;5;28;01mreturn\u001b[39;00m values\u001b[38;5;241m.\u001b[39mcopy()\n\u001b[0;32m    298\u001b[0m \u001b[38;5;28;01mtry\u001b[39;00m:\n\u001b[1;32m--> 299\u001b[0m     new_values \u001b[38;5;241m=\u001b[39m \u001b[43mastype_array\u001b[49m\u001b[43m(\u001b[49m\u001b[43mvalues\u001b[49m\u001b[43m,\u001b[49m\u001b[43m \u001b[49m\u001b[43mdtype\u001b[49m\u001b[43m,\u001b[49m\u001b[43m \u001b[49m\u001b[43mcopy\u001b[49m\u001b[38;5;241;43m=\u001b[39;49m\u001b[43mcopy\u001b[49m\u001b[43m)\u001b[49m\n\u001b[0;32m    300\u001b[0m \u001b[38;5;28;01mexcept\u001b[39;00m (\u001b[38;5;167;01mValueError\u001b[39;00m, \u001b[38;5;167;01mTypeError\u001b[39;00m):\n\u001b[0;32m    301\u001b[0m     \u001b[38;5;66;03m# e.g. astype_nansafe can fail on object-dtype of strings\u001b[39;00m\n\u001b[0;32m    302\u001b[0m     \u001b[38;5;66;03m#  trying to convert to float\u001b[39;00m\n\u001b[0;32m    303\u001b[0m     \u001b[38;5;28;01mif\u001b[39;00m errors \u001b[38;5;241m==\u001b[39m \u001b[38;5;124m\"\u001b[39m\u001b[38;5;124mignore\u001b[39m\u001b[38;5;124m\"\u001b[39m:\n",
      "File \u001b[1;32m~\\anaconda3\\lib\\site-packages\\pandas\\core\\dtypes\\astype.py:230\u001b[0m, in \u001b[0;36mastype_array\u001b[1;34m(values, dtype, copy)\u001b[0m\n\u001b[0;32m    227\u001b[0m     values \u001b[38;5;241m=\u001b[39m values\u001b[38;5;241m.\u001b[39mastype(dtype, copy\u001b[38;5;241m=\u001b[39mcopy)\n\u001b[0;32m    229\u001b[0m \u001b[38;5;28;01melse\u001b[39;00m:\n\u001b[1;32m--> 230\u001b[0m     values \u001b[38;5;241m=\u001b[39m \u001b[43mastype_nansafe\u001b[49m\u001b[43m(\u001b[49m\u001b[43mvalues\u001b[49m\u001b[43m,\u001b[49m\u001b[43m \u001b[49m\u001b[43mdtype\u001b[49m\u001b[43m,\u001b[49m\u001b[43m \u001b[49m\u001b[43mcopy\u001b[49m\u001b[38;5;241;43m=\u001b[39;49m\u001b[43mcopy\u001b[49m\u001b[43m)\u001b[49m\n\u001b[0;32m    232\u001b[0m \u001b[38;5;66;03m# in pandas we don't store numpy str dtypes, so convert to object\u001b[39;00m\n\u001b[0;32m    233\u001b[0m \u001b[38;5;28;01mif\u001b[39;00m \u001b[38;5;28misinstance\u001b[39m(dtype, np\u001b[38;5;241m.\u001b[39mdtype) \u001b[38;5;129;01mand\u001b[39;00m \u001b[38;5;28missubclass\u001b[39m(values\u001b[38;5;241m.\u001b[39mdtype\u001b[38;5;241m.\u001b[39mtype, \u001b[38;5;28mstr\u001b[39m):\n",
      "File \u001b[1;32m~\\anaconda3\\lib\\site-packages\\pandas\\core\\dtypes\\astype.py:170\u001b[0m, in \u001b[0;36mastype_nansafe\u001b[1;34m(arr, dtype, copy, skipna)\u001b[0m\n\u001b[0;32m    166\u001b[0m     \u001b[38;5;28;01mraise\u001b[39;00m \u001b[38;5;167;01mValueError\u001b[39;00m(msg)\n\u001b[0;32m    168\u001b[0m \u001b[38;5;28;01mif\u001b[39;00m copy \u001b[38;5;129;01mor\u001b[39;00m is_object_dtype(arr\u001b[38;5;241m.\u001b[39mdtype) \u001b[38;5;129;01mor\u001b[39;00m is_object_dtype(dtype):\n\u001b[0;32m    169\u001b[0m     \u001b[38;5;66;03m# Explicit copy, or required since NumPy can't view from / to object.\u001b[39;00m\n\u001b[1;32m--> 170\u001b[0m     \u001b[38;5;28;01mreturn\u001b[39;00m \u001b[43marr\u001b[49m\u001b[38;5;241;43m.\u001b[39;49m\u001b[43mastype\u001b[49m\u001b[43m(\u001b[49m\u001b[43mdtype\u001b[49m\u001b[43m,\u001b[49m\u001b[43m \u001b[49m\u001b[43mcopy\u001b[49m\u001b[38;5;241;43m=\u001b[39;49m\u001b[38;5;28;43;01mTrue\u001b[39;49;00m\u001b[43m)\u001b[49m\n\u001b[0;32m    172\u001b[0m \u001b[38;5;28;01mreturn\u001b[39;00m arr\u001b[38;5;241m.\u001b[39mastype(dtype, copy\u001b[38;5;241m=\u001b[39mcopy)\n",
      "\u001b[1;31mValueError\u001b[0m: invalid literal for int() with base 10: 'FA_Student3'"
     ]
    }
   ],
   "source": [
    "assignment_manager.assign_students_to_assignments(df_students, assignment_dict, check_enrollment=False)"
   ]
  },
  {
   "cell_type": "markdown",
   "id": "c3e7c150-5f40-40af-8015-d44a9bc6f602",
   "metadata": {},
   "source": [
    "If any mistakes have been made, then individual assignment to students can be removed, leaving the assignment as it was to begin with.\n",
    "\n",
    "This can done for a single assignment or multiple assignments if entered as a list"
   ]
  },
  {
   "cell_type": "code",
   "execution_count": 13,
   "id": "7dfedc51-2009-4449-a1f2-17e44e015c2b",
   "metadata": {},
   "outputs": [
    {
     "name": "stdout",
     "output_type": "stream",
     "text": [
      "Completed removing overrides for assignments: [203603, 203604]\n"
     ]
    }
   ],
   "source": [
    "assignment_manager.remove_student_assignments([203603,203604])"
   ]
  },
  {
   "cell_type": "markdown",
   "id": "1730ed25-23f0-43aa-9cac-cf4fd005ba3e",
   "metadata": {},
   "source": [
    "### Check that all students have been assigned"
   ]
  },
  {
   "cell_type": "markdown",
   "id": "ef632eb6-30c4-4543-ab84-828a8ebf9d27",
   "metadata": {},
   "source": [
    "If the excel list was incorrect, some students may not have been assigned. We can take a look."
   ]
  },
  {
   "cell_type": "code",
   "execution_count": 1,
   "id": "29951bfb-0cff-450f-b7ae-7a0e7a83938b",
   "metadata": {},
   "outputs": [
    {
     "ename": "NameError",
     "evalue": "name 'assignment_manager' is not defined",
     "output_type": "error",
     "traceback": [
      "\u001b[1;31m---------------------------------------------------------------------------\u001b[0m",
      "\u001b[1;31mNameError\u001b[0m                                 Traceback (most recent call last)",
      "Cell \u001b[1;32mIn[1], line 1\u001b[0m\n\u001b[1;32m----> 1\u001b[0m \u001b[43massignment_manager\u001b[49m\u001b[38;5;241m.\u001b[39mcheck_student_assignment_completions(assignment_dict)\n",
      "\u001b[1;31mNameError\u001b[0m: name 'assignment_manager' is not defined"
     ]
    }
   ],
   "source": [
    "assignment_manager.check_student_assignment_completions(assignment_dict)"
   ]
  },
  {
   "cell_type": "code",
   "execution_count": null,
   "id": "15bce6ad-a32d-43a1-9335-f7301bf93e0d",
   "metadata": {},
   "outputs": [],
   "source": []
  }
 ],
 "metadata": {
  "kernelspec": {
   "display_name": "Python 3 (ipykernel)",
   "language": "python",
   "name": "python3"
  },
  "language_info": {
   "codemirror_mode": {
    "name": "ipython",
    "version": 3
   },
   "file_extension": ".py",
   "mimetype": "text/x-python",
   "name": "python",
   "nbconvert_exporter": "python",
   "pygments_lexer": "ipython3",
   "version": "3.12.5"
  }
 },
 "nbformat": 4,
 "nbformat_minor": 5
}
